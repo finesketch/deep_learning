{
 "metadata": {
  "language_info": {
   "codemirror_mode": {
    "name": "ipython",
    "version": 3
   },
   "file_extension": ".py",
   "mimetype": "text/x-python",
   "name": "python",
   "nbconvert_exporter": "python",
   "pygments_lexer": "ipython3",
   "version": "3.8.5-final"
  },
  "orig_nbformat": 2,
  "kernelspec": {
   "name": "python3",
   "display_name": "Python 3"
  }
 },
 "nbformat": 4,
 "nbformat_minor": 2,
 "cells": [
  {
   "cell_type": "code",
   "execution_count": null,
   "metadata": {},
   "outputs": [],
   "source": [
    "!wget --no-check-certificate \\\n",
    "    https://storage.googleapis.com/laurencemoroney-blog.appspot.com/rps.zip \\\n",
    "    -O /tmp/rps.zip\n",
    "  \n",
    "!wget --no-check-certificate \\\n",
    "    https://storage.googleapis.com/laurencemoroney-blog.appspot.com/rps-test-set.zip \\\n",
    "    -O /tmp/rps-test-set.zip"
   ]
  },
  {
   "cell_type": "code",
   "execution_count": 1,
   "metadata": {},
   "outputs": [],
   "source": [
    "import os\n",
    "import zipfile\n",
    "\n",
    "local_zip = '/tmp/rps.zip'\n",
    "zip_ref = zipfile.ZipFile(local_zip, 'r')\n",
    "zip_ref.extractall('/tmp/')\n",
    "zip_ref.close()\n",
    "\n",
    "local_zip = '/tmp/rps-test-set.zip'\n",
    "zip_ref = zipfile.ZipFile(local_zip, 'r')\n",
    "zip_ref.extractall('/tmp/')\n",
    "zip_ref.close()"
   ]
  },
  {
   "cell_type": "code",
   "execution_count": 2,
   "metadata": {},
   "outputs": [],
   "source": [
    "base_dir = '/tmp/rps'\n",
    "\n",
    "train_dir = os.path.join(base_dir, 'train')\n",
    "validation_dir = os.path.join(base_dir, 'validation')\n",
    "\n",
    "train_paper_dir = os.path.join(train_dir, 'paper')\n",
    "train_rock_dir = os.path.join(train_dir, 'rock')\n",
    "train_scissor_dir = os.path.join(train_dir, 'scissor')\n",
    "\n",
    "validation_paper_dir = os.path.join(validation_dir, 'paper')\n",
    "validation_rock_dir = os.path.join(validation_dir, 'rock')\n",
    "validation_scissor_dir = os.path.join(validation_dir, 'scissor')\n"
   ]
  },
  {
   "cell_type": "code",
   "execution_count": 3,
   "metadata": {},
   "outputs": [
    {
     "output_type": "stream",
     "name": "stdout",
     "text": [
      "total training paper images: 840\ntotal training rock images: 840\ntotal training scissor images: 840\ntotal validation paper images: 124\ntotal validation rock images: 124\ntotal validation scissor images: 124\n"
     ]
    }
   ],
   "source": [
    "print('total training paper images:', len(os.listdir(train_paper_dir)))\n",
    "print('total training rock images:', len(os.listdir(train_rock_dir)))\n",
    "print('total training scissor images:', len(os.listdir(train_scissor_dir)))\n",
    "\n",
    "print('total validation paper images:', len(os.listdir(validation_paper_dir)))\n",
    "print('total validation rock images:', len(os.listdir(validation_rock_dir)))\n",
    "print('total validation scissor images:', len(os.listdir(validation_scissor_dir)))"
   ]
  },
  {
   "cell_type": "code",
   "execution_count": 4,
   "metadata": {},
   "outputs": [
    {
     "output_type": "stream",
     "name": "stdout",
     "text": [
      "['paper03-088.png', 'paper05-026.png', 'paper05-032.png', 'paper03-077.png', 'paper03-063.png', 'paper02-099.png', 'paper04-037.png', 'paper04-023.png', 'paper02-066.png', 'paper02-072.png']\n['rock04-059.png', 'rock01-108.png', 'rock04-065.png', 'rock05ck01-067.png', 'rock05ck01-073.png', 'rock04-071.png', 'rock05ck01-098.png', 'rock02-008.png', 'rock07-k03-013.png', 'rock02-034.png']\n['testscissors03-040.png', 'testscissors03-054.png', 'testscissors03-068.png', 'testscissors03-083.png', 'testscissors03-097.png', 'scissors03-113.png', 'scissors03-107.png', 'testscissors02-051.png', 'testscissors02-045.png', 'scissors01-002.png']\n"
     ]
    }
   ],
   "source": [
    "paper_files = os.listdir(train_paper_dir)\n",
    "print(paper_files[:10])\n",
    "\n",
    "rock_files = os.listdir(train_rock_dir)\n",
    "print(rock_files[:10])\n",
    "\n",
    "scissors_files = os.listdir(train_scissor_dir)\n",
    "print(scissors_files[:10])"
   ]
  },
  {
   "cell_type": "code",
   "execution_count": null,
   "metadata": {},
   "outputs": [],
   "source": [
    "%matplotlib inline\n",
    "\n",
    "import matplotlib.pyplot as plt\n",
    "import matplotlib.image as mpimg\n",
    "\n",
    "pic_index = 2\n",
    "\n",
    "papers = [os.path.join(train_paper_dir, fname) for fname in paper_files[pic_index-2:pic_index]]\n",
    "\n",
    "rocks = [os.path.join(train_rock_dir, fname) for fname in rock_files[pic_index-2:pic_index]]\n",
    "\n",
    "scissors = [os.path.join(train_scissor_dir, fname) for fname in scissors_files[pic_index-2:pic_index]]\n",
    "\n",
    "for i, img_path in enumerate(papers + rocks + scissors):\n",
    "    img = mpimg.imread(img_path)\n",
    "    plt.imshow(img)\n",
    "    plt.axis('Off')\n",
    "    plt.show()"
   ]
  }
 ]
}