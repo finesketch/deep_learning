{
  "nbformat": 4,
  "nbformat_minor": 0,
  "metadata": {
    "colab": {
      "name": "Course4_Part3_Lesson4.ipynb",
      "provenance": [],
      "authorship_tag": "ABX9TyMokTOpw3c+cPEkRrTl6oZp",
      "include_colab_link": true
    },
    "kernelspec": {
      "name": "python3",
      "display_name": "Python 3"
    },
    "accelerator": "GPU"
  },
  "cells": [
    {
      "cell_type": "markdown",
      "metadata": {
        "id": "view-in-github",
        "colab_type": "text"
      },
      "source": [
        "<a href=\"https://colab.research.google.com/github/finesketch/deep_learning/blob/main/4.%20Sequences%2C%20Time%20Series%20and%20Prediction/Course4_Part3_Lesson4.ipynb\" target=\"_parent\"><img src=\"https://colab.research.google.com/assets/colab-badge.svg\" alt=\"Open In Colab\"/></a>"
      ]
    },
    {
      "cell_type": "code",
      "metadata": {
        "colab": {
          "base_uri": "https://localhost:8080/"
        },
        "id": "K8b0q5gwmETy",
        "outputId": "33818efe-21c6-4d07-ba73-efc52a8a33d1"
      },
      "source": [
        "import numpy as np\n",
        "import matplotlib.pyplot as plt\n",
        "import tensorflow as tf\n",
        "print(tf.__version__)"
      ],
      "execution_count": 1,
      "outputs": [
        {
          "output_type": "stream",
          "text": [
            "2.3.0\n"
          ],
          "name": "stdout"
        }
      ]
    },
    {
      "cell_type": "code",
      "metadata": {
        "id": "OeQIib02mdfH"
      },
      "source": [
        "def plot_series(time, series, format=\"-\", start=0, end=None):\n",
        "    plt.plot(time[start:end], series[start:end], format)\n",
        "    plt.xlabel(\"Time\")\n",
        "    plt.ylabel(\"Value\")\n",
        "    plt.grid(True)\n",
        "\n",
        "def trend(time, slope=0):\n",
        "    return slope * time\n",
        "\n",
        "def seasonal_pattern(season_time):\n",
        "    \"\"\"Just an arbitrary pattern, you can change it if you wish\"\"\"\n",
        "    return np.where(season_time < 0.4,\n",
        "                    np.cos(season_time * 2 * np.pi),\n",
        "                    1 / np.exp(3 * season_time))\n",
        "\n",
        "def seasonality(time, period, amplitude=1, phase=0):\n",
        "    \"\"\"Repeats the same pattern at each period\"\"\"\n",
        "    season_time = ((time + phase) % period) / period\n",
        "    return amplitude * seasonal_pattern(season_time)\n",
        "\n",
        "def noise(time, noise_level=1, seed=None):\n",
        "    rnd = np.random.RandomState(seed)\n",
        "    return rnd.randn(len(time)) * noise_level\n",
        "\n",
        "time = np.arange(4 * 365 + 1, dtype=\"float32\")\n",
        "baseline = 10\n",
        "series = trend(time, 0.1)  \n",
        "baseline = 10\n",
        "amplitude = 40\n",
        "slope = 0.05\n",
        "noise_level = 5\n",
        "\n",
        "# Create the series\n",
        "series = baseline + trend(time, slope) + seasonality(time, period=365, amplitude=amplitude)\n",
        "# Update with noise\n",
        "series += noise(time, noise_level, seed=42)\n",
        "\n",
        "split_time = 1000\n",
        "time_train = time[:split_time]\n",
        "x_train = series[:split_time]\n",
        "time_valid = time[split_time:]\n",
        "x_valid = series[split_time:]\n",
        "\n",
        "window_size = 20\n",
        "batch_size = 32\n",
        "shuffle_buffer_size = 1000"
      ],
      "execution_count": 2,
      "outputs": []
    },
    {
      "cell_type": "code",
      "metadata": {
        "id": "lfyKDq_FmhuE"
      },
      "source": [
        "def windowed_dataset(series, window_size, batch_size, shuffle_buffer):\n",
        "  dataset = tf.data.Dataset.from_tensor_slices(series)\n",
        "  dataset = dataset.window(window_size + 1, shift=1, drop_remainder=True)\n",
        "  dataset = dataset.flat_map(lambda window: window.batch(window_size + 1))\n",
        "  dataset = dataset.shuffle(shuffle_buffer).map(lambda window: (window[:-1], window[-1]))\n",
        "  dataset = dataset.batch(batch_size).prefetch(1)\n",
        "  return dataset"
      ],
      "execution_count": 3,
      "outputs": []
    },
    {
      "cell_type": "code",
      "metadata": {
        "id": "-8YQh228mmDG"
      },
      "source": [
        "tf.keras.backend.clear_session()\n",
        "tf.random.set_seed(51)\n",
        "\n",
        "np.random.seed(51)"
      ],
      "execution_count": 4,
      "outputs": []
    },
    {
      "cell_type": "code",
      "metadata": {
        "id": "ZUgL6KFum2SV"
      },
      "source": [
        "dataset = windowed_dataset(x_train, window_size, batch_size, shuffle_buffer=shuffle_buffer_size)"
      ],
      "execution_count": 5,
      "outputs": []
    },
    {
      "cell_type": "code",
      "metadata": {
        "id": "a1WpnbpNnB1f"
      },
      "source": [
        "model = tf.keras.models.Sequential([\n",
        "  tf.keras.layers.Lambda(lambda x: tf.expand_dims(x, axis=-1), input_shape=[None]),\n",
        "  tf.keras.layers.Bidirectional(tf.keras.layers.LSTM(32, return_sequences=True)),\n",
        "  tf.keras.layers.Bidirectional(tf.keras.layers.LSTM(32)),\n",
        "  tf.keras.layers.Dense(1),\n",
        "  tf.keras.layers.Lambda(lambda x: x * 100.0) \n",
        "])"
      ],
      "execution_count": 6,
      "outputs": []
    },
    {
      "cell_type": "code",
      "metadata": {
        "id": "YD0WXmxWph-G"
      },
      "source": [
        "lr_schedule = tf.keras.callbacks.LearningRateScheduler(lambda epoch: 1e-8 * 10**(epoch/20))"
      ],
      "execution_count": 7,
      "outputs": []
    },
    {
      "cell_type": "code",
      "metadata": {
        "id": "r8P5DH4kpwRq"
      },
      "source": [
        "optimizer = tf.keras.optimizers.SGD(lr=1e-8, momentum=0.9)"
      ],
      "execution_count": 8,
      "outputs": []
    },
    {
      "cell_type": "code",
      "metadata": {
        "id": "2ksvmqF4p4Mc"
      },
      "source": [
        "model.compile(loss=tf.keras.losses.Huber(), optimizer=optimizer, metrics=['mae'])"
      ],
      "execution_count": 10,
      "outputs": []
    },
    {
      "cell_type": "code",
      "metadata": {
        "colab": {
          "base_uri": "https://localhost:8080/"
        },
        "id": "Umn7KetHqEXz",
        "outputId": "d67e6a8d-c82c-40e6-96c5-0c27069a8947"
      },
      "source": [
        "history = model.fit(dataset, epochs=100, callbacks=[lr_schedule])"
      ],
      "execution_count": 11,
      "outputs": [
        {
          "output_type": "stream",
          "text": [
            "Epoch 1/100\n",
            "31/31 [==============================] - 0s 10ms/step - loss: 21.5167 - mae: 22.0115\n",
            "Epoch 2/100\n",
            "31/31 [==============================] - 0s 9ms/step - loss: 21.1522 - mae: 21.6444\n",
            "Epoch 3/100\n",
            "31/31 [==============================] - 0s 9ms/step - loss: 20.7302 - mae: 21.2236\n",
            "Epoch 4/100\n",
            "31/31 [==============================] - 0s 9ms/step - loss: 20.2834 - mae: 20.7757\n",
            "Epoch 5/100\n",
            "31/31 [==============================] - 0s 9ms/step - loss: 19.7897 - mae: 20.2855\n",
            "Epoch 6/100\n",
            "31/31 [==============================] - 0s 10ms/step - loss: 19.1782 - mae: 19.6696\n",
            "Epoch 7/100\n",
            "31/31 [==============================] - 0s 10ms/step - loss: 18.2410 - mae: 18.7333\n",
            "Epoch 8/100\n",
            "31/31 [==============================] - 0s 9ms/step - loss: 17.4825 - mae: 17.9748\n",
            "Epoch 9/100\n",
            "31/31 [==============================] - 0s 9ms/step - loss: 17.1597 - mae: 17.6529\n",
            "Epoch 10/100\n",
            "31/31 [==============================] - 0s 9ms/step - loss: 16.8547 - mae: 17.3463\n",
            "Epoch 11/100\n",
            "31/31 [==============================] - 0s 9ms/step - loss: 16.5533 - mae: 17.0471\n",
            "Epoch 12/100\n",
            "31/31 [==============================] - 0s 9ms/step - loss: 16.2565 - mae: 16.7524\n",
            "Epoch 13/100\n",
            "31/31 [==============================] - 0s 9ms/step - loss: 15.9629 - mae: 16.4598\n",
            "Epoch 14/100\n",
            "31/31 [==============================] - 0s 9ms/step - loss: 15.6593 - mae: 16.1548\n",
            "Epoch 15/100\n",
            "31/31 [==============================] - 0s 9ms/step - loss: 15.3713 - mae: 15.8652\n",
            "Epoch 16/100\n",
            "31/31 [==============================] - 0s 9ms/step - loss: 15.0752 - mae: 15.5697\n",
            "Epoch 17/100\n",
            "31/31 [==============================] - 0s 9ms/step - loss: 14.7905 - mae: 15.2869\n",
            "Epoch 18/100\n",
            "31/31 [==============================] - 0s 9ms/step - loss: 14.5229 - mae: 15.0178\n",
            "Epoch 19/100\n",
            "31/31 [==============================] - 0s 9ms/step - loss: 14.2707 - mae: 14.7636\n",
            "Epoch 20/100\n",
            "31/31 [==============================] - 0s 9ms/step - loss: 14.0293 - mae: 14.5217\n",
            "Epoch 21/100\n",
            "31/31 [==============================] - 0s 9ms/step - loss: 13.8191 - mae: 14.3135\n",
            "Epoch 22/100\n",
            "31/31 [==============================] - 0s 9ms/step - loss: 13.6084 - mae: 14.1032\n",
            "Epoch 23/100\n",
            "31/31 [==============================] - 0s 9ms/step - loss: 13.4096 - mae: 13.9038\n",
            "Epoch 24/100\n",
            "31/31 [==============================] - 0s 9ms/step - loss: 13.1859 - mae: 13.6794\n",
            "Epoch 25/100\n",
            "31/31 [==============================] - 0s 9ms/step - loss: 12.9819 - mae: 13.4747\n",
            "Epoch 26/100\n",
            "31/31 [==============================] - 0s 9ms/step - loss: 12.7278 - mae: 13.2184\n",
            "Epoch 27/100\n",
            "31/31 [==============================] - 0s 9ms/step - loss: 12.4886 - mae: 12.9799\n",
            "Epoch 28/100\n",
            "31/31 [==============================] - 0s 9ms/step - loss: 12.3459 - mae: 12.8362\n",
            "Epoch 29/100\n",
            "31/31 [==============================] - 0s 9ms/step - loss: 11.9127 - mae: 12.4017\n",
            "Epoch 30/100\n",
            "31/31 [==============================] - 0s 9ms/step - loss: 11.5934 - mae: 12.0835\n",
            "Epoch 31/100\n",
            "31/31 [==============================] - 0s 9ms/step - loss: 11.2859 - mae: 11.7771\n",
            "Epoch 32/100\n",
            "31/31 [==============================] - 0s 9ms/step - loss: 11.3520 - mae: 11.8418\n",
            "Epoch 33/100\n",
            "31/31 [==============================] - 0s 9ms/step - loss: 10.5232 - mae: 11.0140\n",
            "Epoch 34/100\n",
            "31/31 [==============================] - 0s 9ms/step - loss: 10.5486 - mae: 11.0367\n",
            "Epoch 35/100\n",
            "31/31 [==============================] - 0s 9ms/step - loss: 10.0645 - mae: 10.5500\n",
            "Epoch 36/100\n",
            "31/31 [==============================] - 0s 11ms/step - loss: 10.4567 - mae: 10.9463\n",
            "Epoch 37/100\n",
            "31/31 [==============================] - 0s 10ms/step - loss: 10.2498 - mae: 10.7400\n",
            "Epoch 38/100\n",
            "31/31 [==============================] - 0s 11ms/step - loss: 9.6771 - mae: 10.1650\n",
            "Epoch 39/100\n",
            "31/31 [==============================] - 0s 11ms/step - loss: 9.1682 - mae: 9.6523\n",
            "Epoch 40/100\n",
            "31/31 [==============================] - 0s 9ms/step - loss: 8.7156 - mae: 9.2015\n",
            "Epoch 41/100\n",
            "31/31 [==============================] - 0s 9ms/step - loss: 8.2934 - mae: 8.7790\n",
            "Epoch 42/100\n",
            "31/31 [==============================] - 0s 9ms/step - loss: 7.9497 - mae: 8.4341\n",
            "Epoch 43/100\n",
            "31/31 [==============================] - 0s 10ms/step - loss: 7.6244 - mae: 8.1085\n",
            "Epoch 44/100\n",
            "31/31 [==============================] - 0s 11ms/step - loss: 7.3681 - mae: 7.8541\n",
            "Epoch 45/100\n",
            "31/31 [==============================] - 0s 9ms/step - loss: 7.1961 - mae: 7.6795\n",
            "Epoch 46/100\n",
            "31/31 [==============================] - 0s 11ms/step - loss: 6.8737 - mae: 7.3555\n",
            "Epoch 47/100\n",
            "31/31 [==============================] - 0s 9ms/step - loss: 6.6703 - mae: 7.1542\n",
            "Epoch 48/100\n",
            "31/31 [==============================] - 0s 9ms/step - loss: 6.5805 - mae: 7.0619\n",
            "Epoch 49/100\n",
            "31/31 [==============================] - 0s 9ms/step - loss: 6.2060 - mae: 6.6821\n",
            "Epoch 50/100\n",
            "31/31 [==============================] - 0s 9ms/step - loss: 6.0380 - mae: 6.5169\n",
            "Epoch 51/100\n",
            "31/31 [==============================] - 0s 9ms/step - loss: 5.9093 - mae: 6.3870\n",
            "Epoch 52/100\n",
            "31/31 [==============================] - 0s 11ms/step - loss: 5.7767 - mae: 6.2583\n",
            "Epoch 53/100\n",
            "31/31 [==============================] - 0s 9ms/step - loss: 5.6294 - mae: 6.1096\n",
            "Epoch 54/100\n",
            "31/31 [==============================] - 0s 9ms/step - loss: 5.5203 - mae: 5.9945\n",
            "Epoch 55/100\n",
            "31/31 [==============================] - 0s 9ms/step - loss: 5.3912 - mae: 5.8633\n",
            "Epoch 56/100\n",
            "31/31 [==============================] - 0s 9ms/step - loss: 5.5561 - mae: 6.0298\n",
            "Epoch 57/100\n",
            "31/31 [==============================] - 0s 9ms/step - loss: 5.2786 - mae: 5.7565\n",
            "Epoch 58/100\n",
            "31/31 [==============================] - 0s 9ms/step - loss: 5.2576 - mae: 5.7361\n",
            "Epoch 59/100\n",
            "31/31 [==============================] - 0s 9ms/step - loss: 5.1191 - mae: 5.5978\n",
            "Epoch 60/100\n",
            "31/31 [==============================] - 0s 9ms/step - loss: 5.0473 - mae: 5.5211\n",
            "Epoch 61/100\n",
            "31/31 [==============================] - 0s 9ms/step - loss: 5.3034 - mae: 5.7823\n",
            "Epoch 62/100\n",
            "31/31 [==============================] - 0s 10ms/step - loss: 5.2254 - mae: 5.7053\n",
            "Epoch 63/100\n",
            "31/31 [==============================] - 0s 9ms/step - loss: 5.0230 - mae: 5.4977\n",
            "Epoch 64/100\n",
            "31/31 [==============================] - 0s 10ms/step - loss: 4.8382 - mae: 5.3126\n",
            "Epoch 65/100\n",
            "31/31 [==============================] - 0s 10ms/step - loss: 5.2828 - mae: 5.7625\n",
            "Epoch 66/100\n",
            "31/31 [==============================] - 0s 10ms/step - loss: 5.3683 - mae: 5.8516\n",
            "Epoch 67/100\n",
            "31/31 [==============================] - 0s 9ms/step - loss: 6.1177 - mae: 6.6003\n",
            "Epoch 68/100\n",
            "31/31 [==============================] - 0s 10ms/step - loss: 5.2448 - mae: 5.7288\n",
            "Epoch 69/100\n",
            "31/31 [==============================] - 0s 9ms/step - loss: 5.4571 - mae: 5.9380\n",
            "Epoch 70/100\n",
            "31/31 [==============================] - 0s 11ms/step - loss: 4.8885 - mae: 5.3630\n",
            "Epoch 71/100\n",
            "31/31 [==============================] - 0s 11ms/step - loss: 5.8506 - mae: 6.3323\n",
            "Epoch 72/100\n",
            "31/31 [==============================] - 0s 10ms/step - loss: 6.0308 - mae: 6.5152\n",
            "Epoch 73/100\n",
            "31/31 [==============================] - 0s 10ms/step - loss: 5.6939 - mae: 6.1722\n",
            "Epoch 74/100\n",
            "31/31 [==============================] - 0s 9ms/step - loss: 4.7443 - mae: 5.2246\n",
            "Epoch 75/100\n",
            "31/31 [==============================] - 0s 10ms/step - loss: 5.7971 - mae: 6.2761\n",
            "Epoch 76/100\n",
            "31/31 [==============================] - 0s 9ms/step - loss: 5.6275 - mae: 6.1089\n",
            "Epoch 77/100\n",
            "31/31 [==============================] - 0s 9ms/step - loss: 5.4967 - mae: 5.9790\n",
            "Epoch 78/100\n",
            "31/31 [==============================] - 0s 9ms/step - loss: 5.2320 - mae: 5.7141\n",
            "Epoch 79/100\n",
            "31/31 [==============================] - 0s 9ms/step - loss: 5.6690 - mae: 6.1513\n",
            "Epoch 80/100\n",
            "31/31 [==============================] - 0s 11ms/step - loss: 5.3003 - mae: 5.7819\n",
            "Epoch 81/100\n",
            "31/31 [==============================] - 0s 12ms/step - loss: 6.6214 - mae: 7.1071\n",
            "Epoch 82/100\n",
            "31/31 [==============================] - 0s 9ms/step - loss: 6.2438 - mae: 6.7280\n",
            "Epoch 83/100\n",
            "31/31 [==============================] - 0s 9ms/step - loss: 5.5357 - mae: 6.0162\n",
            "Epoch 84/100\n",
            "31/31 [==============================] - 0s 9ms/step - loss: 6.8063 - mae: 7.2927\n",
            "Epoch 85/100\n",
            "31/31 [==============================] - 0s 9ms/step - loss: 7.8519 - mae: 8.3416\n",
            "Epoch 86/100\n",
            "31/31 [==============================] - 0s 10ms/step - loss: 12.5058 - mae: 12.9996\n",
            "Epoch 87/100\n",
            "31/31 [==============================] - 0s 9ms/step - loss: 7.8160 - mae: 8.3005\n",
            "Epoch 88/100\n",
            "31/31 [==============================] - 0s 9ms/step - loss: 7.6311 - mae: 8.1207\n",
            "Epoch 89/100\n",
            "31/31 [==============================] - 0s 9ms/step - loss: 7.7597 - mae: 8.2471\n",
            "Epoch 90/100\n",
            "31/31 [==============================] - 0s 9ms/step - loss: 9.5084 - mae: 9.9991\n",
            "Epoch 91/100\n",
            "31/31 [==============================] - 0s 9ms/step - loss: 5.9767 - mae: 6.4609\n",
            "Epoch 92/100\n",
            "31/31 [==============================] - 0s 9ms/step - loss: 10.2597 - mae: 10.7501\n",
            "Epoch 93/100\n",
            "31/31 [==============================] - 0s 10ms/step - loss: 7.2945 - mae: 7.7802\n",
            "Epoch 94/100\n",
            "31/31 [==============================] - 0s 9ms/step - loss: 7.6755 - mae: 8.1606\n",
            "Epoch 95/100\n",
            "31/31 [==============================] - 0s 9ms/step - loss: 10.3131 - mae: 10.8023\n",
            "Epoch 96/100\n",
            "31/31 [==============================] - 0s 9ms/step - loss: 12.5757 - mae: 13.0692\n",
            "Epoch 97/100\n",
            "31/31 [==============================] - 0s 9ms/step - loss: 9.3075 - mae: 9.7960\n",
            "Epoch 98/100\n",
            "31/31 [==============================] - 0s 9ms/step - loss: 8.5262 - mae: 9.0161\n",
            "Epoch 99/100\n",
            "31/31 [==============================] - 0s 9ms/step - loss: 12.4104 - mae: 12.9040\n",
            "Epoch 100/100\n",
            "31/31 [==============================] - 0s 9ms/step - loss: 10.2574 - mae: 10.7491\n"
          ],
          "name": "stdout"
        }
      ]
    },
    {
      "cell_type": "code",
      "metadata": {
        "colab": {
          "base_uri": "https://localhost:8080/",
          "height": 290
        },
        "id": "hdn8BrUmqPVa",
        "outputId": "72943aab-c139-4413-d4e4-e072af281dfb"
      },
      "source": [
        "plt.semilogx(history.history['lr'], history.history['loss'])\n",
        "plt.axis([1e-8, 1e-4, 0, 30])"
      ],
      "execution_count": 12,
      "outputs": [
        {
          "output_type": "execute_result",
          "data": {
            "text/plain": [
              "(1e-08, 0.0001, 0.0, 30.0)"
            ]
          },
          "metadata": {
            "tags": []
          },
          "execution_count": 12
        },
        {
          "output_type": "display_data",
          "data": {
            "image/png": "[encoded data removed]",
            "text/plain": [
              "<Figure size 432x288 with 1 Axes>"
            ]
          },
          "metadata": {
            "tags": [],
            "needs_background": "light"
          }
        }
      ]
    },
    {
      "cell_type": "code",
      "metadata": {
        "colab": {
          "base_uri": "https://localhost:8080/",
          "height": 388
        },
        "id": "oOCgaSb-q232",
        "outputId": "8307302f-e724-4bc9-d744-cb5bc93188e2"
      },
      "source": [
        "forecast = []\n",
        "results = []\n",
        "\n",
        "for time in range(len(series) - window_size):\n",
        "  forecast.append(model.predict(series[time:time+window_size][np.newaxis]))\n",
        "\n",
        "forecast = forecast[split_time-window_size:]\n",
        "results = np.array(forecast)[:,0,0]\n",
        "\n",
        "plt.figure(figsize=(10,6))\n",
        "\n",
        "plot_series(time_valid, x_valid)\n",
        "plot_series(time_valid, results)\n"
      ],
      "execution_count": 14,
      "outputs": [
        {
          "output_type": "display_data",
          "data": {
            "image/png": "[encoded data removed]",
            "text/plain": [
              "<Figure size 720x432 with 1 Axes>"
            ]
          },
          "metadata": {
            "tags": [],
            "needs_background": "light"
          }
        }
      ]
    },
    {
      "cell_type": "code",
      "metadata": {
        "colab": {
          "base_uri": "https://localhost:8080/"
        },
        "id": "1exdAToTqnrB",
        "outputId": "53f41ab7-b225-4c15-d687-024210a4770b"
      },
      "source": [
        "tf.keras.metrics.mean_absolute_error(x_valid, results).numpy()"
      ],
      "execution_count": 15,
      "outputs": [
        {
          "output_type": "execute_result",
          "data": {
            "text/plain": [
              "26.242397"
            ]
          },
          "metadata": {
            "tags": []
          },
          "execution_count": 15
        }
      ]
    },
    {
      "cell_type": "code",
      "metadata": {
        "id": "4kiKlFo8qyyP"
      },
      "source": [
        "tf.keras.backend.clear_session()\n",
        "tf.random.set_seed(51)\n",
        "\n",
        "np.random.seed(51)"
      ],
      "execution_count": 16,
      "outputs": []
    },
    {
      "cell_type": "code",
      "metadata": {
        "id": "BCaDNPUusd5B"
      },
      "source": [
        "dataset = windowed_dataset(x_train, window_size, batch_size, shuffle_buffer_size)"
      ],
      "execution_count": 17,
      "outputs": []
    },
    {
      "cell_type": "code",
      "metadata": {
        "id": "v_xxyDh5shcY"
      },
      "source": [
        "model = tf.keras.models.Sequential([\n",
        "  tf.keras.layers.Lambda(lambda x: tf.expand_dims(x, axis=-1), input_shape=[None]),\n",
        "  tf.keras.layers.Bidirectional(tf.keras.layers.LSTM(32, return_sequences=True)),\n",
        "  tf.keras.layers.Bidirectional(tf.keras.layers.LSTM(32)),\n",
        "  tf.keras.layers.Dense(1),\n",
        "  tf.keras.layers.Lambda(lambda x: x * 100.0)\n",
        "])"
      ],
      "execution_count": 18,
      "outputs": []
    },
    {
      "cell_type": "code",
      "metadata": {
        "id": "d9-GZAKBsmSK"
      },
      "source": [
        "model.compile(loss=\"mse\", optimizer=tf.keras.optimizers.SGD(lr=1e-5, momentum=0.9), metrics=[\"mae\"])"
      ],
      "execution_count": 19,
      "outputs": []
    },
    {
      "cell_type": "code",
      "metadata": {
        "colab": {
          "base_uri": "https://localhost:8080/",
          "height": 324
        },
        "id": "tmgb4zgjspHh",
        "outputId": "3c3be9b0-2b2f-4a35-f5fa-42f9d9c9ce89"
      },
      "source": [
        "history = model.fit(dataset,epochs=500,verbose=0)"
      ],
      "execution_count": 20,
      "outputs": [
        {
          "output_type": "error",
          "ename": "KeyboardInterrupt",
          "evalue": "ignored",
          "traceback": [
            "\u001b[0;31m---------------------------------------------------------------------------\u001b[0m",
            "\u001b[0;31mKeyboardInterrupt\u001b[0m                         Traceback (most recent call last)",
            "\u001b[0;32m<ipython-input-20-8566dc58daf3>\u001b[0m in \u001b[0;36m<module>\u001b[0;34m()\u001b[0m\n\u001b[0;32m----> 1\u001b[0;31m \u001b[0mhistory\u001b[0m \u001b[0;34m=\u001b[0m \u001b[0mmodel\u001b[0m\u001b[0;34m.\u001b[0m\u001b[0mfit\u001b[0m\u001b[0;34m(\u001b[0m\u001b[0mdataset\u001b[0m\u001b[0;34m,\u001b[0m\u001b[0mepochs\u001b[0m\u001b[0;34m=\u001b[0m\u001b[0;36m500\u001b[0m\u001b[0;34m,\u001b[0m\u001b[0mverbose\u001b[0m\u001b[0;34m=\u001b[0m\u001b[0;36m0\u001b[0m\u001b[0;34m)\u001b[0m\u001b[0;34m\u001b[0m\u001b[0;34m\u001b[0m\u001b[0m\n\u001b[0m",
            "\u001b[0;32m/usr/local/lib/python3.6/dist-packages/tensorflow/python/keras/engine/training.py\u001b[0m in \u001b[0;36m_method_wrapper\u001b[0;34m(self, *args, **kwargs)\u001b[0m\n\u001b[1;32m    106\u001b[0m   \u001b[0;32mdef\u001b[0m \u001b[0m_method_wrapper\u001b[0m\u001b[0;34m(\u001b[0m\u001b[0mself\u001b[0m\u001b[0;34m,\u001b[0m \u001b[0;34m*\u001b[0m\u001b[0margs\u001b[0m\u001b[0;34m,\u001b[0m \u001b[0;34m**\u001b[0m\u001b[0mkwargs\u001b[0m\u001b[0;34m)\u001b[0m\u001b[0;34m:\u001b[0m\u001b[0;34m\u001b[0m\u001b[0;34m\u001b[0m\u001b[0m\n\u001b[1;32m    107\u001b[0m     \u001b[0;32mif\u001b[0m \u001b[0;32mnot\u001b[0m \u001b[0mself\u001b[0m\u001b[0;34m.\u001b[0m\u001b[0m_in_multi_worker_mode\u001b[0m\u001b[0;34m(\u001b[0m\u001b[0;34m)\u001b[0m\u001b[0;34m:\u001b[0m  \u001b[0;31m# pylint: disable=protected-access\u001b[0m\u001b[0;34m\u001b[0m\u001b[0;34m\u001b[0m\u001b[0m\n\u001b[0;32m--> 108\u001b[0;31m       \u001b[0;32mreturn\u001b[0m \u001b[0mmethod\u001b[0m\u001b[0;34m(\u001b[0m\u001b[0mself\u001b[0m\u001b[0;34m,\u001b[0m \u001b[0;34m*\u001b[0m\u001b[0margs\u001b[0m\u001b[0;34m,\u001b[0m \u001b[0;34m**\u001b[0m\u001b[0mkwargs\u001b[0m\u001b[0;34m)\u001b[0m\u001b[0;34m\u001b[0m\u001b[0;34m\u001b[0m\u001b[0m\n\u001b[0m\u001b[1;32m    109\u001b[0m \u001b[0;34m\u001b[0m\u001b[0m\n\u001b[1;32m    110\u001b[0m     \u001b[0;31m# Running inside `run_distribute_coordinator` already.\u001b[0m\u001b[0;34m\u001b[0m\u001b[0;34m\u001b[0m\u001b[0;34m\u001b[0m\u001b[0m\n",
            "\u001b[0;32m/usr/local/lib/python3.6/dist-packages/tensorflow/python/keras/engine/training.py\u001b[0m in \u001b[0;36mfit\u001b[0;34m(self, x, y, batch_size, epochs, verbose, callbacks, validation_split, validation_data, shuffle, class_weight, sample_weight, initial_epoch, steps_per_epoch, validation_steps, validation_batch_size, validation_freq, max_queue_size, workers, use_multiprocessing)\u001b[0m\n\u001b[1;32m   1096\u001b[0m                 batch_size=batch_size):\n\u001b[1;32m   1097\u001b[0m               \u001b[0mcallbacks\u001b[0m\u001b[0;34m.\u001b[0m\u001b[0mon_train_batch_begin\u001b[0m\u001b[0;34m(\u001b[0m\u001b[0mstep\u001b[0m\u001b[0;34m)\u001b[0m\u001b[0;34m\u001b[0m\u001b[0;34m\u001b[0m\u001b[0m\n\u001b[0;32m-> 1098\u001b[0;31m               \u001b[0mtmp_logs\u001b[0m \u001b[0;34m=\u001b[0m \u001b[0mtrain_function\u001b[0m\u001b[0;34m(\u001b[0m\u001b[0miterator\u001b[0m\u001b[0;34m)\u001b[0m\u001b[0;34m\u001b[0m\u001b[0;34m\u001b[0m\u001b[0m\n\u001b[0m\u001b[1;32m   1099\u001b[0m               \u001b[0;32mif\u001b[0m \u001b[0mdata_handler\u001b[0m\u001b[0;34m.\u001b[0m\u001b[0mshould_sync\u001b[0m\u001b[0;34m:\u001b[0m\u001b[0;34m\u001b[0m\u001b[0;34m\u001b[0m\u001b[0m\n\u001b[1;32m   1100\u001b[0m                 \u001b[0mcontext\u001b[0m\u001b[0;34m.\u001b[0m\u001b[0masync_wait\u001b[0m\u001b[0;34m(\u001b[0m\u001b[0;34m)\u001b[0m\u001b[0;34m\u001b[0m\u001b[0;34m\u001b[0m\u001b[0m\n",
            "\u001b[0;32m/usr/local/lib/python3.6/dist-packages/tensorflow/python/eager/def_function.py\u001b[0m in \u001b[0;36m__call__\u001b[0;34m(self, *args, **kwds)\u001b[0m\n\u001b[1;32m    778\u001b[0m       \u001b[0;32melse\u001b[0m\u001b[0;34m:\u001b[0m\u001b[0;34m\u001b[0m\u001b[0;34m\u001b[0m\u001b[0m\n\u001b[1;32m    779\u001b[0m         \u001b[0mcompiler\u001b[0m \u001b[0;34m=\u001b[0m \u001b[0;34m\"nonXla\"\u001b[0m\u001b[0;34m\u001b[0m\u001b[0;34m\u001b[0m\u001b[0m\n\u001b[0;32m--> 780\u001b[0;31m         \u001b[0mresult\u001b[0m \u001b[0;34m=\u001b[0m \u001b[0mself\u001b[0m\u001b[0;34m.\u001b[0m\u001b[0m_call\u001b[0m\u001b[0;34m(\u001b[0m\u001b[0;34m*\u001b[0m\u001b[0margs\u001b[0m\u001b[0;34m,\u001b[0m \u001b[0;34m**\u001b[0m\u001b[0mkwds\u001b[0m\u001b[0;34m)\u001b[0m\u001b[0;34m\u001b[0m\u001b[0;34m\u001b[0m\u001b[0m\n\u001b[0m\u001b[1;32m    781\u001b[0m \u001b[0;34m\u001b[0m\u001b[0m\n\u001b[1;32m    782\u001b[0m       \u001b[0mnew_tracing_count\u001b[0m \u001b[0;34m=\u001b[0m \u001b[0mself\u001b[0m\u001b[0;34m.\u001b[0m\u001b[0m_get_tracing_count\u001b[0m\u001b[0;34m(\u001b[0m\u001b[0;34m)\u001b[0m\u001b[0;34m\u001b[0m\u001b[0;34m\u001b[0m\u001b[0m\n",
            "\u001b[0;32m/usr/local/lib/python3.6/dist-packages/tensorflow/python/eager/def_function.py\u001b[0m in \u001b[0;36m_call\u001b[0;34m(self, *args, **kwds)\u001b[0m\n\u001b[1;32m    805\u001b[0m       \u001b[0;31m# In this case we have created variables on the first call, so we run the\u001b[0m\u001b[0;34m\u001b[0m\u001b[0;34m\u001b[0m\u001b[0;34m\u001b[0m\u001b[0m\n\u001b[1;32m    806\u001b[0m       \u001b[0;31m# defunned version which is guaranteed to never create variables.\u001b[0m\u001b[0;34m\u001b[0m\u001b[0;34m\u001b[0m\u001b[0;34m\u001b[0m\u001b[0m\n\u001b[0;32m--> 807\u001b[0;31m       \u001b[0;32mreturn\u001b[0m \u001b[0mself\u001b[0m\u001b[0;34m.\u001b[0m\u001b[0m_stateless_fn\u001b[0m\u001b[0;34m(\u001b[0m\u001b[0;34m*\u001b[0m\u001b[0margs\u001b[0m\u001b[0;34m,\u001b[0m \u001b[0;34m**\u001b[0m\u001b[0mkwds\u001b[0m\u001b[0;34m)\u001b[0m  \u001b[0;31m# pylint: disable=not-callable\u001b[0m\u001b[0;34m\u001b[0m\u001b[0;34m\u001b[0m\u001b[0m\n\u001b[0m\u001b[1;32m    808\u001b[0m     \u001b[0;32melif\u001b[0m \u001b[0mself\u001b[0m\u001b[0;34m.\u001b[0m\u001b[0m_stateful_fn\u001b[0m \u001b[0;32mis\u001b[0m \u001b[0;32mnot\u001b[0m \u001b[0;32mNone\u001b[0m\u001b[0;34m:\u001b[0m\u001b[0;34m\u001b[0m\u001b[0;34m\u001b[0m\u001b[0m\n\u001b[1;32m    809\u001b[0m       \u001b[0;31m# Release the lock early so that multiple threads can perform the call\u001b[0m\u001b[0;34m\u001b[0m\u001b[0;34m\u001b[0m\u001b[0;34m\u001b[0m\u001b[0m\n",
            "\u001b[0;32m/usr/local/lib/python3.6/dist-packages/tensorflow/python/eager/function.py\u001b[0m in \u001b[0;36m__call__\u001b[0;34m(self, *args, **kwargs)\u001b[0m\n\u001b[1;32m   2827\u001b[0m     \u001b[0;32mwith\u001b[0m \u001b[0mself\u001b[0m\u001b[0;34m.\u001b[0m\u001b[0m_lock\u001b[0m\u001b[0;34m:\u001b[0m\u001b[0;34m\u001b[0m\u001b[0;34m\u001b[0m\u001b[0m\n\u001b[1;32m   2828\u001b[0m       \u001b[0mgraph_function\u001b[0m\u001b[0;34m,\u001b[0m \u001b[0margs\u001b[0m\u001b[0;34m,\u001b[0m \u001b[0mkwargs\u001b[0m \u001b[0;34m=\u001b[0m \u001b[0mself\u001b[0m\u001b[0;34m.\u001b[0m\u001b[0m_maybe_define_function\u001b[0m\u001b[0;34m(\u001b[0m\u001b[0margs\u001b[0m\u001b[0;34m,\u001b[0m \u001b[0mkwargs\u001b[0m\u001b[0;34m)\u001b[0m\u001b[0;34m\u001b[0m\u001b[0;34m\u001b[0m\u001b[0m\n\u001b[0;32m-> 2829\u001b[0;31m     \u001b[0;32mreturn\u001b[0m \u001b[0mgraph_function\u001b[0m\u001b[0;34m.\u001b[0m\u001b[0m_filtered_call\u001b[0m\u001b[0;34m(\u001b[0m\u001b[0margs\u001b[0m\u001b[0;34m,\u001b[0m \u001b[0mkwargs\u001b[0m\u001b[0;34m)\u001b[0m  \u001b[0;31m# pylint: disable=protected-access\u001b[0m\u001b[0;34m\u001b[0m\u001b[0;34m\u001b[0m\u001b[0m\n\u001b[0m\u001b[1;32m   2830\u001b[0m \u001b[0;34m\u001b[0m\u001b[0m\n\u001b[1;32m   2831\u001b[0m   \u001b[0;34m@\u001b[0m\u001b[0mproperty\u001b[0m\u001b[0;34m\u001b[0m\u001b[0;34m\u001b[0m\u001b[0m\n",
            "\u001b[0;32m/usr/local/lib/python3.6/dist-packages/tensorflow/python/eager/function.py\u001b[0m in \u001b[0;36m_filtered_call\u001b[0;34m(self, args, kwargs, cancellation_manager)\u001b[0m\n\u001b[1;32m   1846\u001b[0m                            resource_variable_ops.BaseResourceVariable))],\n\u001b[1;32m   1847\u001b[0m         \u001b[0mcaptured_inputs\u001b[0m\u001b[0;34m=\u001b[0m\u001b[0mself\u001b[0m\u001b[0;34m.\u001b[0m\u001b[0mcaptured_inputs\u001b[0m\u001b[0;34m,\u001b[0m\u001b[0;34m\u001b[0m\u001b[0;34m\u001b[0m\u001b[0m\n\u001b[0;32m-> 1848\u001b[0;31m         cancellation_manager=cancellation_manager)\n\u001b[0m\u001b[1;32m   1849\u001b[0m \u001b[0;34m\u001b[0m\u001b[0m\n\u001b[1;32m   1850\u001b[0m   \u001b[0;32mdef\u001b[0m \u001b[0m_call_flat\u001b[0m\u001b[0;34m(\u001b[0m\u001b[0mself\u001b[0m\u001b[0;34m,\u001b[0m \u001b[0margs\u001b[0m\u001b[0;34m,\u001b[0m \u001b[0mcaptured_inputs\u001b[0m\u001b[0;34m,\u001b[0m \u001b[0mcancellation_manager\u001b[0m\u001b[0;34m=\u001b[0m\u001b[0;32mNone\u001b[0m\u001b[0;34m)\u001b[0m\u001b[0;34m:\u001b[0m\u001b[0;34m\u001b[0m\u001b[0;34m\u001b[0m\u001b[0m\n",
            "\u001b[0;32m/usr/local/lib/python3.6/dist-packages/tensorflow/python/eager/function.py\u001b[0m in \u001b[0;36m_call_flat\u001b[0;34m(self, args, captured_inputs, cancellation_manager)\u001b[0m\n\u001b[1;32m   1922\u001b[0m       \u001b[0;31m# No tape is watching; skip to running the function.\u001b[0m\u001b[0;34m\u001b[0m\u001b[0;34m\u001b[0m\u001b[0;34m\u001b[0m\u001b[0m\n\u001b[1;32m   1923\u001b[0m       return self._build_call_outputs(self._inference_function.call(\n\u001b[0;32m-> 1924\u001b[0;31m           ctx, args, cancellation_manager=cancellation_manager))\n\u001b[0m\u001b[1;32m   1925\u001b[0m     forward_backward = self._select_forward_and_backward_functions(\n\u001b[1;32m   1926\u001b[0m         \u001b[0margs\u001b[0m\u001b[0;34m,\u001b[0m\u001b[0;34m\u001b[0m\u001b[0;34m\u001b[0m\u001b[0m\n",
            "\u001b[0;32m/usr/local/lib/python3.6/dist-packages/tensorflow/python/eager/function.py\u001b[0m in \u001b[0;36mcall\u001b[0;34m(self, ctx, args, cancellation_manager)\u001b[0m\n\u001b[1;32m    548\u001b[0m               \u001b[0minputs\u001b[0m\u001b[0;34m=\u001b[0m\u001b[0margs\u001b[0m\u001b[0;34m,\u001b[0m\u001b[0;34m\u001b[0m\u001b[0;34m\u001b[0m\u001b[0m\n\u001b[1;32m    549\u001b[0m               \u001b[0mattrs\u001b[0m\u001b[0;34m=\u001b[0m\u001b[0mattrs\u001b[0m\u001b[0;34m,\u001b[0m\u001b[0;34m\u001b[0m\u001b[0;34m\u001b[0m\u001b[0m\n\u001b[0;32m--> 550\u001b[0;31m               ctx=ctx)\n\u001b[0m\u001b[1;32m    551\u001b[0m         \u001b[0;32melse\u001b[0m\u001b[0;34m:\u001b[0m\u001b[0;34m\u001b[0m\u001b[0;34m\u001b[0m\u001b[0m\n\u001b[1;32m    552\u001b[0m           outputs = execute.execute_with_cancellation(\n",
            "\u001b[0;32m/usr/local/lib/python3.6/dist-packages/tensorflow/python/eager/execute.py\u001b[0m in \u001b[0;36mquick_execute\u001b[0;34m(op_name, num_outputs, inputs, attrs, ctx, name)\u001b[0m\n\u001b[1;32m     58\u001b[0m     \u001b[0mctx\u001b[0m\u001b[0;34m.\u001b[0m\u001b[0mensure_initialized\u001b[0m\u001b[0;34m(\u001b[0m\u001b[0;34m)\u001b[0m\u001b[0;34m\u001b[0m\u001b[0;34m\u001b[0m\u001b[0m\n\u001b[1;32m     59\u001b[0m     tensors = pywrap_tfe.TFE_Py_Execute(ctx._handle, device_name, op_name,\n\u001b[0;32m---> 60\u001b[0;31m                                         inputs, attrs, num_outputs)\n\u001b[0m\u001b[1;32m     61\u001b[0m   \u001b[0;32mexcept\u001b[0m \u001b[0mcore\u001b[0m\u001b[0;34m.\u001b[0m\u001b[0m_NotOkStatusException\u001b[0m \u001b[0;32mas\u001b[0m \u001b[0me\u001b[0m\u001b[0;34m:\u001b[0m\u001b[0;34m\u001b[0m\u001b[0;34m\u001b[0m\u001b[0m\n\u001b[1;32m     62\u001b[0m     \u001b[0;32mif\u001b[0m \u001b[0mname\u001b[0m \u001b[0;32mis\u001b[0m \u001b[0;32mnot\u001b[0m \u001b[0;32mNone\u001b[0m\u001b[0;34m:\u001b[0m\u001b[0;34m\u001b[0m\u001b[0;34m\u001b[0m\u001b[0m\n",
            "\u001b[0;31mKeyboardInterrupt\u001b[0m: "
          ]
        }
      ]
    },
    {
      "cell_type": "code",
      "metadata": {
        "id": "CcsRNEmDssFM"
      },
      "source": [
        ""
      ],
      "execution_count": null,
      "outputs": []
    }
  ]
}