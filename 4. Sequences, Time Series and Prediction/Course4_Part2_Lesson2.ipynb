{
  "nbformat": 4,
  "nbformat_minor": 0,
  "metadata": {
    "colab": {
      "name": "Course4_Part2_Lesson2.ipynb",
      "provenance": [],
      "authorship_tag": "ABX9TyMULU0Q+N+W1mYc6VlaaqHL",
      "include_colab_link": true
    },
    "kernelspec": {
      "name": "python3",
      "display_name": "Python 3"
    },
    "accelerator": "GPU"
  },
  "cells": [
    {
      "cell_type": "markdown",
      "metadata": {
        "id": "view-in-github",
        "colab_type": "text"
      },
      "source": [
        "<a href=\"https://colab.research.google.com/github/finesketch/deep_learning/blob/main/4.%20Sequences%2C%20Time%20Series%20and%20Prediction/Course4_Part2_Lesson2.ipynb\" target=\"_parent\"><img src=\"https://colab.research.google.com/assets/colab-badge.svg\" alt=\"Open In Colab\"/></a>"
      ]
    },
    {
      "cell_type": "code",
      "metadata": {
        "colab": {
          "base_uri": "https://localhost:8080/"
        },
        "id": "h5PwNAt2UMsI",
        "outputId": "38c25c44-74ab-4e4e-809f-e00c3948b3ae"
      },
      "source": [
        "import tensorflow as tf\n",
        "import numpy as np\n",
        "import matplotlib.pyplot as plt\n",
        "print(tf.__version__)"
      ],
      "execution_count": 1,
      "outputs": [
        {
          "output_type": "stream",
          "text": [
            "2.3.0\n"
          ],
          "name": "stdout"
        }
      ]
    },
    {
      "cell_type": "code",
      "metadata": {
        "id": "S_1CeCGDUiij"
      },
      "source": [
        "def plot_series(time, series, format=\"-\", start=0, end=None):\n",
        "    plt.plot(time[start:end], series[start:end], format)\n",
        "    plt.xlabel(\"Time\")\n",
        "    plt.ylabel(\"Value\")\n",
        "    plt.grid(True)\n",
        "\n",
        "def trend(time, slope=0):\n",
        "    return slope * time\n",
        "\n",
        "def seasonal_pattern(season_time):\n",
        "    \"\"\"Just an arbitrary pattern, you can change it if you wish\"\"\"\n",
        "    return np.where(season_time < 0.4,\n",
        "                    np.cos(season_time * 2 * np.pi),\n",
        "                    1 / np.exp(3 * season_time))\n",
        "\n",
        "def seasonality(time, period, amplitude=1, phase=0):\n",
        "    \"\"\"Repeats the same pattern at each period\"\"\"\n",
        "    season_time = ((time + phase) % period) / period\n",
        "    return amplitude * seasonal_pattern(season_time)\n",
        "\n",
        "def noise(time, noise_level=1, seed=None):\n",
        "    rnd = np.random.RandomState(seed)\n",
        "    return rnd.randn(len(time)) * noise_level\n",
        "\n",
        "time = np.arange(4 * 365 + 1, dtype=\"float32\")\n",
        "baseline = 10\n",
        "series = trend(time, 0.1)  \n",
        "baseline = 10\n",
        "amplitude = 40\n",
        "slope = 0.05\n",
        "noise_level = 5\n",
        "\n",
        "# Create the series\n",
        "series = baseline + trend(time, slope) + seasonality(time, period=365, amplitude=amplitude)\n",
        "# Update with noise\n",
        "series += noise(time, noise_level, seed=42)\n",
        "\n",
        "split_time = 1000\n",
        "time_train = time[:split_time]\n",
        "x_train = series[:split_time]\n",
        "time_valid = time[split_time:]\n",
        "x_valid = series[split_time:]\n",
        "\n",
        "window_size = 20\n",
        "batch_size = 32\n",
        "shuffle_buffer_size = 1000"
      ],
      "execution_count": 2,
      "outputs": []
    },
    {
      "cell_type": "code",
      "metadata": {
        "id": "NTyiOxr7aHDX"
      },
      "source": [
        ""
      ],
      "execution_count": null,
      "outputs": []
    },
    {
      "cell_type": "code",
      "metadata": {
        "id": "qm6ZQ5ivUwEz"
      },
      "source": [
        "def windowed_dataset(series, window_size, batch_size, shuffle_buffer):\n",
        "  dataset = tf.data.Dataset.from_tensor_slices(series)\n",
        "  dataset = dataset.window(window_size + 1, shift=1, drop_remainder=True)\n",
        "  dataset = dataset.flat_map(lambda window: window.batch(window_size + 1))\n",
        "  dataset = dataset.shuffle(shuffle_buffer)\n",
        "  dataset = dataset.map(lambda window: (window[:-1], window[-1]))\n",
        "  dataset = dataset.batch(batch_size).prefetch(1)\n",
        "  return dataset"
      ],
      "execution_count": 3,
      "outputs": []
    },
    {
      "cell_type": "code",
      "metadata": {
        "colab": {
          "base_uri": "https://localhost:8080/"
        },
        "id": "f76SKaRlVzyd",
        "outputId": "c9cdebd1-c80e-4776-ef6f-7bd404bc729f"
      },
      "source": [
        "dataset = windowed_dataset(x_train, window_size, batch_size, shuffle_buffer_size)\n",
        "print(dataset)"
      ],
      "execution_count": 4,
      "outputs": [
        {
          "output_type": "stream",
          "text": [
            "<PrefetchDataset shapes: ((None, None), (None,)), types: (tf.float32, tf.float32)>\n"
          ],
          "name": "stdout"
        }
      ]
    },
    {
      "cell_type": "code",
      "metadata": {
        "colab": {
          "base_uri": "https://localhost:8080/"
        },
        "id": "0fnd_CRybQiQ",
        "outputId": "fb0fbebf-861b-4e9e-e7b1-6d1472acdc5f"
      },
      "source": [
        "i = 0\n",
        "for x, y in dataset:\n",
        "  print('x = ', x.numpy())\n",
        "  print('y = ', y.numpy())\n",
        "  i += 1\n",
        "  if i == 1:\n",
        "    break"
      ],
      "execution_count": 13,
      "outputs": [
        {
          "output_type": "stream",
          "text": [
            "x =  [[40.778324   31.413609   33.544636   36.22143    38.910835   31.098982\n",
            "  32.022236   26.868631   25.863333   35.345516   37.49725    29.783985\n",
            "  34.584694   30.793396   25.17319    29.614908   34.903008   26.434551\n",
            "  33.833897   12.305289  ]\n",
            " [35.969654   21.868246   38.740505   18.333178   27.353228   31.072536\n",
            "  29.55496    25.05581    27.14825    25.743662   25.281895   32.497025\n",
            "  30.054634   24.825788   32.809357   29.869114   32.418423   31.52398\n",
            "  24.252817   25.619074  ]\n",
            " [57.16999    46.721287   47.04894    43.50735    41.55169    49.94979\n",
            "  41.51532    46.151627   43.403996   48.186077   47.458817   50.977943\n",
            "  43.240307   44.441574   40.89809    43.571808   47.681534   49.58213\n",
            "  41.188908   50.150696  ]\n",
            " [47.04894    43.50735    41.55169    49.94979    41.51532    46.151627\n",
            "  43.403996   48.186077   47.458817   50.977943   43.240307   44.441574\n",
            "  40.89809    43.571808   47.681534   49.58213    41.188908   50.150696\n",
            "  52.584183   47.876865  ]\n",
            " [61.65801    59.0514     67.68912    65.356606   61.307972   57.718082\n",
            "  68.47362    67.35454    63.60032    73.322525   58.73252    56.449394\n",
            "  60.612007   63.838596   65.278656   62.85165    65.81443    57.79322\n",
            "  71.26694    63.634983  ]\n",
            " [56.963406   53.19721    66.379585   61.65801    59.0514     67.68912\n",
            "  65.356606   61.307972   57.718082   68.47362    67.35454    63.60032\n",
            "  73.322525   58.73252    56.449394   60.612007   63.838596   65.278656\n",
            "  62.85165    65.81443   ]\n",
            " [35.793327   23.285662   23.954716   26.874273   26.67722    27.866035\n",
            "  34.201256   22.851107   19.33878    16.037046   18.891464   22.002163\n",
            "  30.77161    63.25971    66.9181     65.66923    71.64629    78.29278\n",
            "  62.958344   63.12085   ]\n",
            " [46.35441    42.963524   44.570477   51.18507    49.86728    42.430267\n",
            "  47.770836   50.988007   38.8417     49.86395    43.793186   49.91921\n",
            "  43.210567   37.963825   38.81263    47.153587   48.17531    42.31936\n",
            "  49.998848   38.46393   ]\n",
            " [31.307323   37.161125   34.104355   29.048223   29.784843   24.899433\n",
            "  29.85182    28.533539   31.623013   25.906002   32.67176    37.77174\n",
            "  29.597399   32.18305    33.65864    66.2439     69.414536   68.38926\n",
            "  68.83505    64.49016   ]\n",
            " [56.444798   61.271942   55.21483    64.67567    62.6364     52.09588\n",
            "  57.672966   55.509987   58.588013   46.375916   54.080563   55.38649\n",
            "  40.739193   43.049755   38.197876   46.469997   50.822926   54.160572\n",
            "  46.428406   53.605907  ]\n",
            " [40.81647    49.086952   53.619343   34.027466   42.37602    49.22129\n",
            "  45.29673    48.144333   43.245922   46.676632   45.44373    52.040035\n",
            "  47.452827   47.84891    44.082253   43.68492    43.942028   48.05951\n",
            "  43.965313   47.50264   ]\n",
            " [26.994549   30.098      31.90704    21.58235    25.917253   25.221323\n",
            "  24.336056   36.436977   29.64197    21.320347   32.222126   38.251995\n",
            "  32.812275   20.062172   25.247257   34.012722   24.14989    29.917734\n",
            "  31.582527   23.085745  ]\n",
            " [25.743662   25.281895   32.497025   30.054634   24.825788   32.809357\n",
            "  29.869114   32.418423   31.52398    24.252817   25.619074   32.178864\n",
            "  31.51689    28.383394   29.097626   34.92262    25.599964   31.317053\n",
            "  27.594559   27.541286  ]\n",
            " [61.132603   63.594288   60.199306   59.731533   59.748016   61.791138\n",
            "  57.670246   65.72341    54.34955    57.263702   55.372604   64.17726\n",
            "  57.294388   60.83839    47.617447   55.74531    58.221962   53.5481\n",
            "  57.82629    49.2742    ]\n",
            " [46.594894   44.934753   52.822556   44.08511    40.594      39.88281\n",
            "  50.725815   41.3236     56.529865   37.376553   56.298946   48.90238\n",
            "  47.394512   45.184433   49.935806   47.783203   53.519295   48.60548\n",
            "  48.81757    46.279854  ]\n",
            " [29.646276   32.436993   27.157375   28.926945   25.067759   40.243286\n",
            "  29.959265   25.648567   29.582514   27.31777    26.142935   29.688772\n",
            "  29.7776     22.711872   21.861979   22.74508    11.99279    15.311469\n",
            "  29.109999   29.892042  ]\n",
            " [27.586983   23.696756   20.33666    25.659061   32.15494    28.92529\n",
            "  21.608559   28.686138   29.73035    23.368555   28.541082   28.048655\n",
            "  22.028439   29.518435   30.52015    33.118732   32.960247   20.791162\n",
            "  22.97916    30.232738  ]\n",
            " [58.955788   53.083527   64.105736   56.444798   61.271942   55.21483\n",
            "  64.67567    62.6364     52.09588    57.672966   55.509987   58.588013\n",
            "  46.375916   54.080563   55.38649    40.739193   43.049755   38.197876\n",
            "  46.469997   50.822926  ]\n",
            " [38.602703   45.406162   34.208767   37.00193    44.25351    46.578594\n",
            "  43.35101    41.514812   40.177532   33.871693   37.237713   38.097908\n",
            "  45.242546   41.222683   30.229015   40.196377   36.174564   34.231815\n",
            "  40.183838   41.78223   ]\n",
            " [45.094387   44.97436    39.817963   42.99061    41.351192   55.690018\n",
            "  51.631855   53.336246   50.61204    41.383835   44.43211    49.527397\n",
            "  40.9959     50.697735   45.95752    45.31164    50.76733    49.460827\n",
            "  45.46184    53.09068   ]\n",
            " [51.975742   49.146484   47.405113   48.450214   50.12911    45.725693\n",
            "  44.566395   87.479225   81.65221    88.61756    78.08376    91.750984\n",
            "  88.96491    87.86698    91.473404   94.84867    91.54276    77.20444\n",
            "  79.93713    83.12551   ]\n",
            " [32.500496   39.433147   37.764694   38.810547   37.214695   47.470825\n",
            "  31.43617    31.405706   30.38625    30.17146    29.214622   37.80533\n",
            "  38.427612   27.942549   26.112188   32.115417   26.488426   31.91241\n",
            "  29.26776    20.18714   ]\n",
            " [ 8.140686   11.465986    8.743816   22.045954   17.48329    12.506416\n",
            "  19.42369    11.895177    6.6931214  18.11337    12.697694    4.3296328\n",
            "   8.084382    4.185847    1.185607   12.274111   16.742033   -0.23790547\n",
            "   9.138161    2.6470213 ]\n",
            " [ 4.538722   -0.2369535   4.9011045  47.34658    46.35441    42.963524\n",
            "  44.570477   51.18507    49.86728    42.430267   47.770836   50.988007\n",
            "  38.8417     49.86395    43.793186   49.91921    43.210567   37.963825\n",
            "  38.81263    47.153587  ]\n",
            " [48.304993   47.02844    41.966053   48.28551    55.34836    52.675735\n",
            "  53.92529    43.414318   41.033737   45.364502   46.284054   51.48869\n",
            "  37.56802    53.691013   45.266438   43.935593   41.0233     37.823654\n",
            "  50.228203   46.493633  ]\n",
            " [30.216269   30.212847   46.89202    30.474054   33.289154   32.373535\n",
            "  30.853155   26.012995   31.377792   23.712889   26.387451   25.139708\n",
            "  27.971327   39.131126   18.217827   30.982216   19.484531   25.18608\n",
            "  32.98855    27.863678  ]\n",
            " [33.692867   27.943205   22.999773   30.233395   28.934015   24.953756\n",
            "  28.320253   26.06135    28.57245    31.332735   35.969654   21.868246\n",
            "  38.740505   18.333178   27.353228   31.072536   29.55496    25.05581\n",
            "  27.14825    25.743662  ]\n",
            " [50.697735   45.95752    45.31164    50.76733    49.460827   45.46184\n",
            "  53.09068    41.916256   50.42897    50.342705   45.857548   49.064213\n",
            "  41.20642    52.11075    46.594894   44.934753   52.822556   44.08511\n",
            "  40.594      39.88281   ]\n",
            " [47.452827   47.84891    44.082253   43.68492    43.942028   48.05951\n",
            "  43.965313   47.50264    56.41485    50.37808    44.37749    51.99936\n",
            "  43.93912    35.775608   40.913044   36.58728    44.171944   46.010376\n",
            "  54.289753   47.53197   ]\n",
            " [32.63576    34.45614    24.523287   33.40782    30.619787   32.631824\n",
            "  37.97182    27.227936   24.653889   23.943367   24.280926   27.944168\n",
            "  30.005796   29.654501   32.37862    28.28001    35.455605   26.838215\n",
            "  41.736534   31.238834  ]\n",
            " [37.214695   47.470825   31.43617    31.405706   30.38625    30.17146\n",
            "  29.214622   37.80533    38.427612   27.942549   26.112188   32.115417\n",
            "  26.488426   31.91241    29.26776    20.18714    35.023605   35.793327\n",
            "  23.285662   23.954716  ]\n",
            " [32.022236   26.868631   25.863333   35.345516   37.49725    29.783985\n",
            "  34.584694   30.793396   25.17319    29.614908   34.903008   26.434551\n",
            "  33.833897   12.305289   28.903387   24.615705   22.06895    23.403429\n",
            "  12.384742   20.599699  ]]\n",
            "y =  [28.903387  32.178864  52.584183  55.197754  69.63028   57.79322\n",
            " 70.74497   46.40746   68.47448   37.963173  56.41485   27.434132\n",
            " 34.147957  58.26888   47.845196  19.817163  30.216269  54.160572\n",
            " 40.778324  41.916256  86.283035  35.023605   3.0502167 48.17531\n",
            " 39.692234  22.15246   25.281895  50.725815  44.792107  23.800137\n",
            " 26.874273  22.856821 ]\n"
          ],
          "name": "stdout"
        }
      ]
    },
    {
      "cell_type": "code",
      "metadata": {
        "colab": {
          "base_uri": "https://localhost:8080/"
        },
        "id": "jeuGYEg4WL3o",
        "outputId": "77115ec9-4187-4f9e-cbc9-4e253a43a984"
      },
      "source": [
        "dense_layer = tf.keras.layers.Dense(1, input_shape=[window_size])\n",
        "\n",
        "model = tf.keras.models.Sequential([dense_layer])\n",
        "\n",
        "model.compile(loss='mse', optimizer=tf.keras.optimizers.SGD(lr=1e-6, momentum=0.9))\n",
        "\n",
        "history = model.fit(dataset, epochs=100, verbose=0)\n",
        "\n",
        "print('Layer weights {}'.format(dense_layer.get_weights()))\n"
      ],
      "execution_count": 15,
      "outputs": [
        {
          "output_type": "stream",
          "text": [
            "Layer weights [array([[-0.00656633],\n",
            "       [-0.00423081],\n",
            "       [ 0.0084551 ],\n",
            "       [-0.06674844],\n",
            "       [ 0.02245001],\n",
            "       [ 0.05565074],\n",
            "       [ 0.04248081],\n",
            "       [-0.00955439],\n",
            "       [-0.05914737],\n",
            "       [-0.03507196],\n",
            "       [ 0.02054515],\n",
            "       [ 0.06161061],\n",
            "       [-0.09752776],\n",
            "       [ 0.04855958],\n",
            "       [ 0.05863822],\n",
            "       [ 0.07104753],\n",
            "       [-0.03465544],\n",
            "       [ 0.13681573],\n",
            "       [ 0.36439514],\n",
            "       [ 0.40196642]], dtype=float32), array([0.0164445], dtype=float32)]\n"
          ],
          "name": "stdout"
        }
      ]
    },
    {
      "cell_type": "code",
      "metadata": {
        "colab": {
          "base_uri": "https://localhost:8080/",
          "height": 388
        },
        "id": "aImdn1q8WSl8",
        "outputId": "ea87e30c-56c2-4f72-aff6-f146fa388b5c"
      },
      "source": [
        "forecast = []\n",
        "\n",
        "for time in range(len(series) - window_size):\n",
        "  forecast.append(model.predict(series[time:time + window_size][np.newaxis]))\n",
        "\n",
        "forecast = forecast[split_time - window_size:]\n",
        "results = np.array(forecast)[:, 0, 0]\n",
        "\n",
        "plt.figure(figsize=(10,6))\n",
        "\n",
        "plot_series(time_valid, x_valid)\n",
        "plot_series(time_valid, results)"
      ],
      "execution_count": 8,
      "outputs": [
        {
          "output_type": "display_data",
          "data": {
            "image/png": "[encoded data removed]",
            "text/plain": [
              "<Figure size 720x432 with 1 Axes>"
            ]
          },
          "metadata": {
            "tags": [],
            "needs_background": "light"
          }
        }
      ]
    },
    {
      "cell_type": "code",
      "metadata": {
        "colab": {
          "base_uri": "https://localhost:8080/"
        },
        "id": "a6TE2PpLY52e",
        "outputId": "3703a015-891a-421b-8824-f6107e8c0296"
      },
      "source": [
        "tf.keras.metrics.mean_absolute_error(x_valid, results).numpy()"
      ],
      "execution_count": 9,
      "outputs": [
        {
          "output_type": "execute_result",
          "data": {
            "text/plain": [
              "4.9771905"
            ]
          },
          "metadata": {
            "tags": []
          },
          "execution_count": 9
        }
      ]
    }
  ]
}