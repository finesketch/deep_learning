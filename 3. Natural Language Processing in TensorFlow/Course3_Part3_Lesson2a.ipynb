{
  "nbformat": 4,
  "nbformat_minor": 0,
  "metadata": {
    "colab": {
      "name": "Course3-Part3-Lesson2a.ipynb",
      "provenance": [],
      "authorship_tag": "ABX9TyP4ZuydxEEZJKkK9hUs+9FE",
      "include_colab_link": true
    },
    "kernelspec": {
      "name": "python3",
      "display_name": "Python 3"
    },
    "accelerator": "GPU"
  },
  "cells": [
    {
      "cell_type": "markdown",
      "metadata": {
        "id": "view-in-github",
        "colab_type": "text"
      },
      "source": [
        "<a href=\"https://colab.research.google.com/github/finesketch/deep_learning/blob/main/3.%20Natural%20Language%20Processing%20in%20TensorFlow/Course3_Part3_Lesson2a.ipynb\" target=\"_parent\"><img src=\"https://colab.research.google.com/assets/colab-badge.svg\" alt=\"Open In Colab\"/></a>"
      ]
    },
    {
      "cell_type": "code",
      "metadata": {
        "id": "pp2FolYUWIHl"
      },
      "source": [
        "import numpy as np\n",
        "\n",
        "import json\n",
        "import tensorflow as tf\n",
        "\n",
        "from tensorflow.keras.preprocessing.text import Tokenizer\n",
        "from tensorflow.keras.preprocessing.sequence import pad_sequences"
      ],
      "execution_count": 1,
      "outputs": []
    },
    {
      "cell_type": "code",
      "metadata": {
        "colab": {
          "base_uri": "https://localhost:8080/"
        },
        "id": "O1YoM_xuWua3",
        "outputId": "8d754c50-8298-4222-ebf3-318f21e66f91"
      },
      "source": [
        "!wget --no-check-certificate \\\n",
        "    https://storage.googleapis.com/laurencemoroney-blog.appspot.com/sarcasm.json \\\n",
        "    -O /tmp/sarcasm.json"
      ],
      "execution_count": 2,
      "outputs": [
        {
          "output_type": "stream",
          "text": [
            "--2020-11-30 04:13:30--  https://storage.googleapis.com/laurencemoroney-blog.appspot.com/sarcasm.json\n",
            "Resolving storage.googleapis.com (storage.googleapis.com)... 74.125.20.128, 74.125.142.128, 74.125.195.128, ...\n",
            "Connecting to storage.googleapis.com (storage.googleapis.com)|74.125.20.128|:443... connected.\n",
            "HTTP request sent, awaiting response... 200 OK\n",
            "Length: 5643545 (5.4M) [application/json]\n",
            "Saving to: ‘/tmp/sarcasm.json’\n",
            "\n",
            "\r/tmp/sarcasm.json     0%[                    ]       0  --.-KB/s               \r/tmp/sarcasm.json   100%[===================>]   5.38M  --.-KB/s    in 0.04s   \n",
            "\n",
            "2020-11-30 04:13:30 (130 MB/s) - ‘/tmp/sarcasm.json’ saved [5643545/5643545]\n",
            "\n"
          ],
          "name": "stdout"
        }
      ]
    },
    {
      "cell_type": "code",
      "metadata": {
        "id": "ZAbbC5JRWwyY"
      },
      "source": [
        "vocab_size = 1000\n",
        "embedding_dim = 16\n",
        "max_length = 120\n",
        "trunc_type = 'post'\n",
        "padding_type = 'post'\n",
        "oov_tok = '<OOV>'\n",
        "training_size = 20000"
      ],
      "execution_count": 3,
      "outputs": []
    },
    {
      "cell_type": "code",
      "metadata": {
        "id": "rg108zCiXDW4"
      },
      "source": [
        "with open('/tmp/sarcasm.json', 'r') as f:\n",
        "  datastore = json.load(f)"
      ],
      "execution_count": 4,
      "outputs": []
    },
    {
      "cell_type": "code",
      "metadata": {
        "id": "REA19xnyXDc4"
      },
      "source": [
        "sentences = []\n",
        "labels = []\n",
        "urls = []\n",
        "\n",
        "for item in datastore:\n",
        "  sentences.append(item['headline'])\n",
        "  labels.append(item['is_sarcastic'])"
      ],
      "execution_count": 5,
      "outputs": []
    },
    {
      "cell_type": "code",
      "metadata": {
        "id": "JPbjKUbdXDhm"
      },
      "source": [
        "training_sentences = sentences[0:training_size]\n",
        "training_labels = labels[0:training_size]\n",
        "\n",
        "testing_sentences = sentences[training_size:]\n",
        "testing_labels = labels[training_size:]"
      ],
      "execution_count": 6,
      "outputs": []
    },
    {
      "cell_type": "code",
      "metadata": {
        "id": "t8Eo1doSXDoH"
      },
      "source": [
        "tokenizer = Tokenizer(num_words=vocab_size, oov_token=oov_tok)\n",
        "tokenizer.fit_on_texts(training_sentences)\n",
        "\n",
        "word_index = tokenizer.word_index\n",
        "\n",
        "training_sequences = tokenizer.texts_to_sequences(training_sentences)\n",
        "training_padded = pad_sequences(training_sequences, maxlen=max_length, padding=padding_type, truncating=trunc_type)\n",
        "\n",
        "testing_sequences = tokenizer.texts_to_sequences(testing_sentences)\n",
        "testing_padded = pad_sequences(testing_sequences, maxlen=max_length, padding=padding_type, truncating=trunc_type)\n"
      ],
      "execution_count": 7,
      "outputs": []
    },
    {
      "cell_type": "code",
      "metadata": {
        "id": "yyNHe0WPZWKL"
      },
      "source": [
        "model = tf.keras.models.Sequential([\n",
        "  tf.keras.layers.Embedding(vocab_size, embedding_dim, input_length=max_length),\n",
        "  tf.keras.layers.Bidirectional(tf.keras.layers.LSTM(32)),\n",
        "  tf.keras.layers.Dense(24, activation='relu'),\n",
        "  tf.keras.layers.Dense(1, activation='sigmoid')\n",
        "])"
      ],
      "execution_count": 8,
      "outputs": []
    },
    {
      "cell_type": "code",
      "metadata": {
        "id": "yxvA_t2HZ9UM"
      },
      "source": [
        "model.compile(loss='binary_crossentropy', optimizer='adam', metrics=['accuracy'])"
      ],
      "execution_count": 9,
      "outputs": []
    },
    {
      "cell_type": "code",
      "metadata": {
        "colab": {
          "base_uri": "https://localhost:8080/"
        },
        "id": "urkUGQwYZ9Zc",
        "outputId": "0fd61471-af61-4219-b5ed-039e9d399831"
      },
      "source": [
        "model.summary()"
      ],
      "execution_count": 10,
      "outputs": [
        {
          "output_type": "stream",
          "text": [
            "Model: \"sequential\"\n",
            "_________________________________________________________________\n",
            "Layer (type)                 Output Shape              Param #   \n",
            "=================================================================\n",
            "embedding (Embedding)        (None, 120, 16)           16000     \n",
            "_________________________________________________________________\n",
            "bidirectional (Bidirectional (None, 64)                12544     \n",
            "_________________________________________________________________\n",
            "dense (Dense)                (None, 24)                1560      \n",
            "_________________________________________________________________\n",
            "dense_1 (Dense)              (None, 1)                 25        \n",
            "=================================================================\n",
            "Total params: 30,129\n",
            "Trainable params: 30,129\n",
            "Non-trainable params: 0\n",
            "_________________________________________________________________\n"
          ],
          "name": "stdout"
        }
      ]
    },
    {
      "cell_type": "code",
      "metadata": {
        "colab": {
          "base_uri": "https://localhost:8080/"
        },
        "id": "YJBp8VvzZ9ix",
        "outputId": "34592799-c2e9-46ed-c893-f29594b07419"
      },
      "source": [
        "num_epochs = 50\n",
        "\n",
        "training_padded = np.array(training_padded)\n",
        "training_labels = np.array(training_labels)\n",
        "\n",
        "testing_padded = np.array(testing_padded)\n",
        "testing_labels = np.array(testing_labels)\n",
        "\n",
        "history = model.fit(\n",
        "    training_padded,\n",
        "    training_labels,\n",
        "    epochs=num_epochs,\n",
        "    validation_data=(testing_padded, testing_labels),\n",
        "    verbose=1\n",
        ")"
      ],
      "execution_count": 11,
      "outputs": [
        {
          "output_type": "stream",
          "text": [
            "Epoch 1/50\n",
            "625/625 [==============================] - 9s 15ms/step - loss: 0.4601 - accuracy: 0.7689 - val_loss: 0.3971 - val_accuracy: 0.8198\n",
            "Epoch 2/50\n",
            "625/625 [==============================] - 9s 14ms/step - loss: 0.3566 - accuracy: 0.8365 - val_loss: 0.3835 - val_accuracy: 0.8210\n",
            "Epoch 3/50\n",
            "625/625 [==============================] - 9s 14ms/step - loss: 0.3341 - accuracy: 0.8497 - val_loss: 0.3758 - val_accuracy: 0.8284\n",
            "Epoch 4/50\n",
            "625/625 [==============================] - 9s 14ms/step - loss: 0.3173 - accuracy: 0.8590 - val_loss: 0.3749 - val_accuracy: 0.8295\n",
            "Epoch 5/50\n",
            "625/625 [==============================] - 9s 14ms/step - loss: 0.3084 - accuracy: 0.8606 - val_loss: 0.3883 - val_accuracy: 0.8265\n",
            "Epoch 6/50\n",
            "625/625 [==============================] - 9s 14ms/step - loss: 0.3018 - accuracy: 0.8658 - val_loss: 0.3800 - val_accuracy: 0.8295\n",
            "Epoch 7/50\n",
            "625/625 [==============================] - 9s 14ms/step - loss: 0.2956 - accuracy: 0.8698 - val_loss: 0.3942 - val_accuracy: 0.8250\n",
            "Epoch 8/50\n",
            "625/625 [==============================] - 9s 14ms/step - loss: 0.2875 - accuracy: 0.8723 - val_loss: 0.3948 - val_accuracy: 0.8296\n",
            "Epoch 9/50\n",
            "625/625 [==============================] - 9s 14ms/step - loss: 0.2771 - accuracy: 0.8783 - val_loss: 0.3852 - val_accuracy: 0.8286\n",
            "Epoch 10/50\n",
            "625/625 [==============================] - 9s 14ms/step - loss: 0.2677 - accuracy: 0.8831 - val_loss: 0.4029 - val_accuracy: 0.8256\n",
            "Epoch 11/50\n",
            "625/625 [==============================] - 9s 14ms/step - loss: 0.2580 - accuracy: 0.8899 - val_loss: 0.3953 - val_accuracy: 0.8256\n",
            "Epoch 12/50\n",
            "625/625 [==============================] - 8s 14ms/step - loss: 0.2483 - accuracy: 0.8923 - val_loss: 0.4195 - val_accuracy: 0.8252\n",
            "Epoch 13/50\n",
            "625/625 [==============================] - 9s 14ms/step - loss: 0.2406 - accuracy: 0.8982 - val_loss: 0.4112 - val_accuracy: 0.8240\n",
            "Epoch 14/50\n",
            "625/625 [==============================] - 9s 14ms/step - loss: 0.2319 - accuracy: 0.9022 - val_loss: 0.4518 - val_accuracy: 0.8259\n",
            "Epoch 15/50\n",
            "625/625 [==============================] - 9s 14ms/step - loss: 0.2232 - accuracy: 0.9064 - val_loss: 0.4456 - val_accuracy: 0.8195\n",
            "Epoch 16/50\n",
            "625/625 [==============================] - 9s 14ms/step - loss: 0.2143 - accuracy: 0.9112 - val_loss: 0.4999 - val_accuracy: 0.8171\n",
            "Epoch 17/50\n",
            "625/625 [==============================] - 9s 14ms/step - loss: 0.2073 - accuracy: 0.9127 - val_loss: 0.4872 - val_accuracy: 0.8170\n",
            "Epoch 18/50\n",
            "625/625 [==============================] - 9s 14ms/step - loss: 0.2001 - accuracy: 0.9148 - val_loss: 0.5093 - val_accuracy: 0.8129\n",
            "Epoch 19/50\n",
            "625/625 [==============================] - 8s 14ms/step - loss: 0.1927 - accuracy: 0.9196 - val_loss: 0.5252 - val_accuracy: 0.8109\n",
            "Epoch 20/50\n",
            "625/625 [==============================] - 8s 13ms/step - loss: 0.1858 - accuracy: 0.9235 - val_loss: 0.5743 - val_accuracy: 0.8129\n",
            "Epoch 21/50\n",
            "625/625 [==============================] - 8s 13ms/step - loss: 0.1819 - accuracy: 0.9257 - val_loss: 0.5655 - val_accuracy: 0.8140\n",
            "Epoch 22/50\n",
            "625/625 [==============================] - 8s 13ms/step - loss: 0.1745 - accuracy: 0.9280 - val_loss: 0.6320 - val_accuracy: 0.8126\n",
            "Epoch 23/50\n",
            "625/625 [==============================] - 8s 14ms/step - loss: 0.1651 - accuracy: 0.9326 - val_loss: 0.6768 - val_accuracy: 0.8086\n",
            "Epoch 24/50\n",
            "625/625 [==============================] - 8s 14ms/step - loss: 0.1583 - accuracy: 0.9356 - val_loss: 0.6633 - val_accuracy: 0.8000\n",
            "Epoch 25/50\n",
            "625/625 [==============================] - 8s 13ms/step - loss: 0.1551 - accuracy: 0.9376 - val_loss: 0.6752 - val_accuracy: 0.8083\n",
            "Epoch 26/50\n",
            "625/625 [==============================] - 8s 13ms/step - loss: 0.1458 - accuracy: 0.9406 - val_loss: 0.7387 - val_accuracy: 0.8056\n",
            "Epoch 27/50\n",
            "625/625 [==============================] - 8s 13ms/step - loss: 0.1383 - accuracy: 0.9442 - val_loss: 0.8148 - val_accuracy: 0.8035\n",
            "Epoch 28/50\n",
            "625/625 [==============================] - 8s 14ms/step - loss: 0.1368 - accuracy: 0.9442 - val_loss: 0.7824 - val_accuracy: 0.8025\n",
            "Epoch 29/50\n",
            "625/625 [==============================] - 8s 13ms/step - loss: 0.1280 - accuracy: 0.9484 - val_loss: 0.8417 - val_accuracy: 0.8022\n",
            "Epoch 30/50\n",
            "625/625 [==============================] - 8s 13ms/step - loss: 0.1211 - accuracy: 0.9509 - val_loss: 0.9339 - val_accuracy: 0.8094\n",
            "Epoch 31/50\n",
            "625/625 [==============================] - 8s 13ms/step - loss: 0.1187 - accuracy: 0.9515 - val_loss: 0.9167 - val_accuracy: 0.8041\n",
            "Epoch 32/50\n",
            "625/625 [==============================] - 9s 14ms/step - loss: 0.1093 - accuracy: 0.9558 - val_loss: 0.9498 - val_accuracy: 0.8021\n",
            "Epoch 33/50\n",
            "625/625 [==============================] - 8s 13ms/step - loss: 0.1042 - accuracy: 0.9572 - val_loss: 1.0307 - val_accuracy: 0.8055\n",
            "Epoch 34/50\n",
            "625/625 [==============================] - 8s 13ms/step - loss: 0.1010 - accuracy: 0.9585 - val_loss: 1.0412 - val_accuracy: 0.7983\n",
            "Epoch 35/50\n",
            "625/625 [==============================] - 8s 13ms/step - loss: 0.0926 - accuracy: 0.9621 - val_loss: 1.1465 - val_accuracy: 0.7997\n",
            "Epoch 36/50\n",
            "625/625 [==============================] - 8s 13ms/step - loss: 0.0915 - accuracy: 0.9628 - val_loss: 1.2021 - val_accuracy: 0.7989\n",
            "Epoch 37/50\n",
            "625/625 [==============================] - 8s 13ms/step - loss: 0.0914 - accuracy: 0.9611 - val_loss: 1.2397 - val_accuracy: 0.7973\n",
            "Epoch 38/50\n",
            "625/625 [==============================] - 8s 13ms/step - loss: 0.0821 - accuracy: 0.9663 - val_loss: 1.2870 - val_accuracy: 0.7955\n",
            "Epoch 39/50\n",
            "625/625 [==============================] - 8s 13ms/step - loss: 0.0810 - accuracy: 0.9639 - val_loss: 1.3235 - val_accuracy: 0.7903\n",
            "Epoch 40/50\n",
            "625/625 [==============================] - 8s 13ms/step - loss: 0.0775 - accuracy: 0.9672 - val_loss: 1.3721 - val_accuracy: 0.7946\n",
            "Epoch 41/50\n",
            "625/625 [==============================] - 8s 13ms/step - loss: 0.0712 - accuracy: 0.9685 - val_loss: 1.6082 - val_accuracy: 0.7939\n",
            "Epoch 42/50\n",
            "625/625 [==============================] - 8s 13ms/step - loss: 0.0747 - accuracy: 0.9679 - val_loss: 1.4945 - val_accuracy: 0.8007\n",
            "Epoch 43/50\n",
            "625/625 [==============================] - 8s 13ms/step - loss: 0.0696 - accuracy: 0.9705 - val_loss: 1.5802 - val_accuracy: 0.7939\n",
            "Epoch 44/50\n",
            "625/625 [==============================] - 8s 13ms/step - loss: 0.0726 - accuracy: 0.9696 - val_loss: 1.4948 - val_accuracy: 0.7851\n",
            "Epoch 45/50\n",
            "625/625 [==============================] - 8s 13ms/step - loss: 0.0656 - accuracy: 0.9713 - val_loss: 1.6503 - val_accuracy: 0.7951\n",
            "Epoch 46/50\n",
            "625/625 [==============================] - 8s 13ms/step - loss: 0.0618 - accuracy: 0.9731 - val_loss: 1.7852 - val_accuracy: 0.7937\n",
            "Epoch 47/50\n",
            "625/625 [==============================] - 8s 13ms/step - loss: 0.0584 - accuracy: 0.9739 - val_loss: 1.7193 - val_accuracy: 0.7997\n",
            "Epoch 48/50\n",
            "625/625 [==============================] - 8s 13ms/step - loss: 0.0556 - accuracy: 0.9761 - val_loss: 1.8356 - val_accuracy: 0.7942\n",
            "Epoch 49/50\n",
            "625/625 [==============================] - 8s 13ms/step - loss: 0.0577 - accuracy: 0.9736 - val_loss: 1.8484 - val_accuracy: 0.7968\n",
            "Epoch 50/50\n",
            "625/625 [==============================] - 8s 13ms/step - loss: 0.0598 - accuracy: 0.9747 - val_loss: 1.7770 - val_accuracy: 0.7907\n"
          ],
          "name": "stdout"
        }
      ]
    },
    {
      "cell_type": "code",
      "metadata": {
        "colab": {
          "base_uri": "https://localhost:8080/",
          "height": 541
        },
        "id": "_z1Xg9kAaZVY",
        "outputId": "5c5a061d-3082-492f-96d5-59c5596858c1"
      },
      "source": [
        "import matplotlib.pyplot as plt\n",
        "\n",
        "def plot_graphs(history, string):\n",
        "  plt.plot(history.history[string])\n",
        "  plt.plot(history.history['val_'+string])\n",
        "  plt.xlabel('Epochs')\n",
        "  plt.ylabel(string)\n",
        "  plt.legend([string, 'val_'+string])\n",
        "  plt.show()\n",
        "\n",
        "plot_graphs(history, 'accuracy')\n",
        "plot_graphs(history, 'loss')"
      ],
      "execution_count": 13,
      "outputs": [
        {
          "output_type": "display_data",
          "data": {
            "image/png": "[encoded data removed]",
            "text/plain": [
              "<Figure size 432x288 with 1 Axes>"
            ]
          },
          "metadata": {
            "tags": [],
            "needs_background": "light"
          }
        },
        {
          "output_type": "display_data",
          "data": {
            "image/png": "[encoded data removed]",
            "text/plain": [
              "<Figure size 432x288 with 1 Axes>"
            ]
          },
          "metadata": {
            "tags": [],
            "needs_background": "light"
          }
        }
      ]
    },
    {
      "cell_type": "code",
      "metadata": {
        "id": "MI4JE7qEaZaI"
      },
      "source": [
        "model.save('test.h5')"
      ],
      "execution_count": 14,
      "outputs": []
    }
  ]
}