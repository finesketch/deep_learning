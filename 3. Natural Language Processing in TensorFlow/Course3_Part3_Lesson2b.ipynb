{
  "nbformat": 4,
  "nbformat_minor": 0,
  "metadata": {
    "colab": {
      "name": "Course3-Part3-Lesson2b.ipynb",
      "provenance": [],
      "authorship_tag": "ABX9TyPhIw0QxyU1jsLEflNn4RxS",
      "include_colab_link": true
    },
    "kernelspec": {
      "name": "python3",
      "display_name": "Python 3"
    },
    "accelerator": "GPU"
  },
  "cells": [
    {
      "cell_type": "markdown",
      "metadata": {
        "id": "view-in-github",
        "colab_type": "text"
      },
      "source": [
        "<a href=\"https://colab.research.google.com/github/finesketch/deep_learning/blob/main/3.%20Natural%20Language%20Processing%20in%20TensorFlow/Course3_Part3_Lesson2b.ipynb\" target=\"_parent\"><img src=\"https://colab.research.google.com/assets/colab-badge.svg\" alt=\"Open In Colab\"/></a>"
      ]
    },
    {
      "cell_type": "code",
      "metadata": {
        "id": "FaWBqkGscBEQ"
      },
      "source": [
        "import numpy as np\n",
        "\n",
        "import json\n",
        "import tensorflow as tf\n",
        "\n",
        "from tensorflow.keras.preprocessing.text import Tokenizer\n",
        "from tensorflow.keras.preprocessing.sequence import pad_sequences"
      ],
      "execution_count": 2,
      "outputs": []
    },
    {
      "cell_type": "code",
      "metadata": {
        "colab": {
          "base_uri": "https://localhost:8080/"
        },
        "id": "qjqiHwnOcPFY",
        "outputId": "e990d134-3932-418d-c124-3e476300c8c1"
      },
      "source": [
        "!wget --no-check-certificate \\\n",
        "    https://storage.googleapis.com/laurencemoroney-blog.appspot.com/sarcasm.json \\\n",
        "    -O /tmp/sarcasm.json"
      ],
      "execution_count": 3,
      "outputs": [
        {
          "output_type": "stream",
          "text": [
            "--2020-11-30 04:43:10--  https://storage.googleapis.com/laurencemoroney-blog.appspot.com/sarcasm.json\n",
            "Resolving storage.googleapis.com (storage.googleapis.com)... 74.125.142.128, 74.125.20.128, 74.125.135.128, ...\n",
            "Connecting to storage.googleapis.com (storage.googleapis.com)|74.125.142.128|:443... connected.\n",
            "HTTP request sent, awaiting response... 200 OK\n",
            "Length: 5643545 (5.4M) [application/json]\n",
            "Saving to: ‘/tmp/sarcasm.json’\n",
            "\n",
            "\r/tmp/sarcasm.json     0%[                    ]       0  --.-KB/s               \r/tmp/sarcasm.json   100%[===================>]   5.38M  --.-KB/s    in 0.05s   \n",
            "\n",
            "2020-11-30 04:43:10 (112 MB/s) - ‘/tmp/sarcasm.json’ saved [5643545/5643545]\n",
            "\n"
          ],
          "name": "stdout"
        }
      ]
    },
    {
      "cell_type": "code",
      "metadata": {
        "id": "vhYMx8bScPL4"
      },
      "source": [
        "vocab_size = 1000\n",
        "embedding_dim = 16\n",
        "max_length = 120\n",
        "trunc_type = 'post'\n",
        "padding_type = 'post'\n",
        "oov_tok = '<OOV>'\n",
        "training_size = 20000"
      ],
      "execution_count": 4,
      "outputs": []
    },
    {
      "cell_type": "code",
      "metadata": {
        "id": "5zvprdxycPQH"
      },
      "source": [
        "with open('/tmp/sarcasm.json', 'r') as f:\n",
        "  datastore = json.load(f)"
      ],
      "execution_count": 5,
      "outputs": []
    },
    {
      "cell_type": "code",
      "metadata": {
        "id": "6srQ4HHDcPTn"
      },
      "source": [
        "sentences = []\n",
        "labels = []\n",
        "urls = []\n",
        "\n",
        "for item in datastore:\n",
        "  sentences.append(item['headline'])\n",
        "  labels.append(item['is_sarcastic'])"
      ],
      "execution_count": 6,
      "outputs": []
    },
    {
      "cell_type": "code",
      "metadata": {
        "id": "t2VIBZvAcPWp"
      },
      "source": [
        "training_sentences = sentences[0:training_size]\n",
        "training_labels = labels[0:training_size]\n",
        "\n",
        "testing_sentences = sentences[training_size:]\n",
        "testing_labels = labels[training_size:]"
      ],
      "execution_count": 7,
      "outputs": []
    },
    {
      "cell_type": "code",
      "metadata": {
        "id": "1QpwdI7ocPZm"
      },
      "source": [
        "tokenizer = Tokenizer(num_words=vocab_size, oov_token=oov_tok)\n",
        "tokenizer.fit_on_texts(training_sentences)\n",
        "\n",
        "word_index = tokenizer.word_index\n",
        "\n",
        "training_sequences = tokenizer.texts_to_sequences(training_sentences)\n",
        "training_padded = pad_sequences(training_sequences, maxlen=max_length, padding=padding_type, truncating=trunc_type)\n",
        "\n",
        "testing_sequences = tokenizer.texts_to_sequences(testing_sentences)\n",
        "testing_padded = pad_sequences(testing_sequences, maxlen=max_length, padding=padding_type, truncating=trunc_type)\n"
      ],
      "execution_count": 8,
      "outputs": []
    },
    {
      "cell_type": "code",
      "metadata": {
        "colab": {
          "base_uri": "https://localhost:8080/"
        },
        "id": "kzaUDWSgcPgd",
        "outputId": "20cdf9fe-97a7-4bed-a944-01d8f9cf5b4f"
      },
      "source": [
        "model = tf.keras.models.Sequential([\n",
        "  tf.keras.layers.Embedding(vocab_size, embedding_dim, input_length=max_length),\n",
        "  tf.keras.layers.Conv1D(128, 5, activation='relu'),\n",
        "  tf.keras.layers.GlobalMaxPooling1D(),\n",
        "  tf.keras.layers.Dense(24, activation='relu'),\n",
        "  tf.keras.layers.Dense(1, activation='sigmoid')\n",
        "])\n",
        "\n",
        "model.compile(loss='binary_crossentropy', optimizer='adam', metrics=['accuracy'])\n",
        "\n",
        "model.summary()"
      ],
      "execution_count": 9,
      "outputs": [
        {
          "output_type": "stream",
          "text": [
            "Model: \"sequential\"\n",
            "_________________________________________________________________\n",
            "Layer (type)                 Output Shape              Param #   \n",
            "=================================================================\n",
            "embedding (Embedding)        (None, 120, 16)           16000     \n",
            "_________________________________________________________________\n",
            "conv1d (Conv1D)              (None, 116, 128)          10368     \n",
            "_________________________________________________________________\n",
            "global_max_pooling1d (Global (None, 128)               0         \n",
            "_________________________________________________________________\n",
            "dense (Dense)                (None, 24)                3096      \n",
            "_________________________________________________________________\n",
            "dense_1 (Dense)              (None, 1)                 25        \n",
            "=================================================================\n",
            "Total params: 29,489\n",
            "Trainable params: 29,489\n",
            "Non-trainable params: 0\n",
            "_________________________________________________________________\n"
          ],
          "name": "stdout"
        }
      ]
    },
    {
      "cell_type": "code",
      "metadata": {
        "colab": {
          "base_uri": "https://localhost:8080/"
        },
        "id": "UA22l5I4ecT2",
        "outputId": "8e7522f2-9c2a-4c13-f226-ef6ce1a658c1"
      },
      "source": [
        "num_epochs = 50\n",
        "\n",
        "training_padded = np.array(training_padded)\n",
        "training_labels = np.array(training_labels)\n",
        "\n",
        "testing_padded = np.array(testing_padded)\n",
        "testing_labels = np.array(testing_labels)\n",
        "\n",
        "history = model.fit(\n",
        "    training_padded, \n",
        "    training_labels, \n",
        "    epochs=num_epochs, \n",
        "    validation_data=(testing_padded, testing_labels), \n",
        "    verbose=1)"
      ],
      "execution_count": 10,
      "outputs": [
        {
          "output_type": "stream",
          "text": [
            "Epoch 1/50\n",
            "625/625 [==============================] - 3s 4ms/step - loss: 0.4632 - accuracy: 0.7730 - val_loss: 0.4110 - val_accuracy: 0.8125\n",
            "Epoch 2/50\n",
            "625/625 [==============================] - 3s 4ms/step - loss: 0.3597 - accuracy: 0.8403 - val_loss: 0.3875 - val_accuracy: 0.8214\n",
            "Epoch 3/50\n",
            "625/625 [==============================] - 2s 4ms/step - loss: 0.3206 - accuracy: 0.8578 - val_loss: 0.3945 - val_accuracy: 0.8232\n",
            "Epoch 4/50\n",
            "625/625 [==============================] - 3s 4ms/step - loss: 0.2826 - accuracy: 0.8779 - val_loss: 0.4034 - val_accuracy: 0.8240\n",
            "Epoch 5/50\n",
            "625/625 [==============================] - 3s 4ms/step - loss: 0.2461 - accuracy: 0.8964 - val_loss: 0.4234 - val_accuracy: 0.8199\n",
            "Epoch 6/50\n",
            "625/625 [==============================] - 2s 4ms/step - loss: 0.2117 - accuracy: 0.9136 - val_loss: 0.4717 - val_accuracy: 0.8119\n",
            "Epoch 7/50\n",
            "625/625 [==============================] - 2s 4ms/step - loss: 0.1759 - accuracy: 0.9323 - val_loss: 0.5076 - val_accuracy: 0.8085\n",
            "Epoch 8/50\n",
            "625/625 [==============================] - 2s 4ms/step - loss: 0.1412 - accuracy: 0.9474 - val_loss: 0.5738 - val_accuracy: 0.8027\n",
            "Epoch 9/50\n",
            "625/625 [==============================] - 2s 4ms/step - loss: 0.1168 - accuracy: 0.9566 - val_loss: 0.6545 - val_accuracy: 0.8044\n",
            "Epoch 10/50\n",
            "625/625 [==============================] - 3s 4ms/step - loss: 0.0968 - accuracy: 0.9654 - val_loss: 0.7510 - val_accuracy: 0.8044\n",
            "Epoch 11/50\n",
            "625/625 [==============================] - 3s 4ms/step - loss: 0.0798 - accuracy: 0.9715 - val_loss: 0.8083 - val_accuracy: 0.7994\n",
            "Epoch 12/50\n",
            "625/625 [==============================] - 2s 4ms/step - loss: 0.0663 - accuracy: 0.9767 - val_loss: 0.8830 - val_accuracy: 0.7980\n",
            "Epoch 13/50\n",
            "625/625 [==============================] - 3s 4ms/step - loss: 0.0577 - accuracy: 0.9790 - val_loss: 0.9861 - val_accuracy: 0.7927\n",
            "Epoch 14/50\n",
            "625/625 [==============================] - 2s 4ms/step - loss: 0.0571 - accuracy: 0.9787 - val_loss: 1.0710 - val_accuracy: 0.7869\n",
            "Epoch 15/50\n",
            "625/625 [==============================] - 2s 4ms/step - loss: 0.0487 - accuracy: 0.9821 - val_loss: 1.1164 - val_accuracy: 0.7934\n",
            "Epoch 16/50\n",
            "625/625 [==============================] - 3s 4ms/step - loss: 0.0438 - accuracy: 0.9834 - val_loss: 1.2234 - val_accuracy: 0.7934\n",
            "Epoch 17/50\n",
            "625/625 [==============================] - 3s 4ms/step - loss: 0.0404 - accuracy: 0.9858 - val_loss: 1.2848 - val_accuracy: 0.7883\n",
            "Epoch 18/50\n",
            "625/625 [==============================] - 2s 4ms/step - loss: 0.0381 - accuracy: 0.9851 - val_loss: 1.3397 - val_accuracy: 0.7921\n",
            "Epoch 19/50\n",
            "625/625 [==============================] - 2s 4ms/step - loss: 0.0361 - accuracy: 0.9857 - val_loss: 1.4030 - val_accuracy: 0.7827\n",
            "Epoch 20/50\n",
            "625/625 [==============================] - 2s 4ms/step - loss: 0.0391 - accuracy: 0.9855 - val_loss: 1.4017 - val_accuracy: 0.7882\n",
            "Epoch 21/50\n",
            "625/625 [==============================] - 2s 4ms/step - loss: 0.0382 - accuracy: 0.9853 - val_loss: 1.3988 - val_accuracy: 0.7910\n",
            "Epoch 22/50\n",
            "625/625 [==============================] - 2s 4ms/step - loss: 0.0329 - accuracy: 0.9874 - val_loss: 1.5392 - val_accuracy: 0.7863\n",
            "Epoch 23/50\n",
            "625/625 [==============================] - 2s 4ms/step - loss: 0.0289 - accuracy: 0.9886 - val_loss: 1.6368 - val_accuracy: 0.7842\n",
            "Epoch 24/50\n",
            "625/625 [==============================] - 2s 4ms/step - loss: 0.0262 - accuracy: 0.9898 - val_loss: 1.6829 - val_accuracy: 0.7888\n",
            "Epoch 25/50\n",
            "625/625 [==============================] - 2s 4ms/step - loss: 0.0293 - accuracy: 0.9875 - val_loss: 1.7105 - val_accuracy: 0.7900\n",
            "Epoch 26/50\n",
            "625/625 [==============================] - 2s 4ms/step - loss: 0.0322 - accuracy: 0.9870 - val_loss: 1.7512 - val_accuracy: 0.7857\n",
            "Epoch 27/50\n",
            "625/625 [==============================] - 2s 4ms/step - loss: 0.0347 - accuracy: 0.9868 - val_loss: 1.6842 - val_accuracy: 0.7872\n",
            "Epoch 28/50\n",
            "625/625 [==============================] - 3s 4ms/step - loss: 0.0253 - accuracy: 0.9890 - val_loss: 1.7791 - val_accuracy: 0.7867\n",
            "Epoch 29/50\n",
            "625/625 [==============================] - 2s 4ms/step - loss: 0.0246 - accuracy: 0.9901 - val_loss: 1.7967 - val_accuracy: 0.7807\n",
            "Epoch 30/50\n",
            "625/625 [==============================] - 2s 4ms/step - loss: 0.0278 - accuracy: 0.9886 - val_loss: 1.8729 - val_accuracy: 0.7860\n",
            "Epoch 31/50\n",
            "625/625 [==============================] - 2s 4ms/step - loss: 0.0272 - accuracy: 0.9891 - val_loss: 1.8659 - val_accuracy: 0.7851\n",
            "Epoch 32/50\n",
            "625/625 [==============================] - 2s 4ms/step - loss: 0.0215 - accuracy: 0.9905 - val_loss: 1.9887 - val_accuracy: 0.7831\n",
            "Epoch 33/50\n",
            "625/625 [==============================] - 2s 4ms/step - loss: 0.0217 - accuracy: 0.9909 - val_loss: 2.1571 - val_accuracy: 0.7842\n",
            "Epoch 34/50\n",
            "625/625 [==============================] - 2s 4ms/step - loss: 0.0261 - accuracy: 0.9889 - val_loss: 2.1103 - val_accuracy: 0.7845\n",
            "Epoch 35/50\n",
            "625/625 [==============================] - 2s 4ms/step - loss: 0.0316 - accuracy: 0.9869 - val_loss: 1.9895 - val_accuracy: 0.7855\n",
            "Epoch 36/50\n",
            "625/625 [==============================] - 2s 4ms/step - loss: 0.0241 - accuracy: 0.9898 - val_loss: 1.9778 - val_accuracy: 0.7836\n",
            "Epoch 37/50\n",
            "625/625 [==============================] - 3s 4ms/step - loss: 0.0228 - accuracy: 0.9904 - val_loss: 2.1328 - val_accuracy: 0.7934\n",
            "Epoch 38/50\n",
            "625/625 [==============================] - 3s 4ms/step - loss: 0.0208 - accuracy: 0.9911 - val_loss: 2.2048 - val_accuracy: 0.7852\n",
            "Epoch 39/50\n",
            "625/625 [==============================] - 3s 4ms/step - loss: 0.0199 - accuracy: 0.9913 - val_loss: 2.3951 - val_accuracy: 0.7825\n",
            "Epoch 40/50\n",
            "625/625 [==============================] - 3s 5ms/step - loss: 0.0270 - accuracy: 0.9898 - val_loss: 2.1997 - val_accuracy: 0.7822\n",
            "Epoch 41/50\n",
            "625/625 [==============================] - 3s 4ms/step - loss: 0.0221 - accuracy: 0.9907 - val_loss: 2.2999 - val_accuracy: 0.7758\n",
            "Epoch 42/50\n",
            "625/625 [==============================] - 3s 5ms/step - loss: 0.0188 - accuracy: 0.9918 - val_loss: 2.3658 - val_accuracy: 0.7861\n",
            "Epoch 43/50\n",
            "625/625 [==============================] - 3s 4ms/step - loss: 0.0191 - accuracy: 0.9920 - val_loss: 2.4787 - val_accuracy: 0.7833\n",
            "Epoch 44/50\n",
            "625/625 [==============================] - 3s 4ms/step - loss: 0.0201 - accuracy: 0.9914 - val_loss: 2.4674 - val_accuracy: 0.7867\n",
            "Epoch 45/50\n",
            "625/625 [==============================] - 2s 4ms/step - loss: 0.0244 - accuracy: 0.9897 - val_loss: 2.3719 - val_accuracy: 0.7806\n",
            "Epoch 46/50\n",
            "625/625 [==============================] - 3s 4ms/step - loss: 0.0236 - accuracy: 0.9899 - val_loss: 2.4395 - val_accuracy: 0.7825\n",
            "Epoch 47/50\n",
            "625/625 [==============================] - 3s 4ms/step - loss: 0.0239 - accuracy: 0.9905 - val_loss: 2.2821 - val_accuracy: 0.7848\n",
            "Epoch 48/50\n",
            "625/625 [==============================] - 2s 4ms/step - loss: 0.0182 - accuracy: 0.9920 - val_loss: 2.4552 - val_accuracy: 0.7863\n",
            "Epoch 49/50\n",
            "625/625 [==============================] - 2s 4ms/step - loss: 0.0176 - accuracy: 0.9923 - val_loss: 2.5189 - val_accuracy: 0.7836\n",
            "Epoch 50/50\n",
            "625/625 [==============================] - 2s 4ms/step - loss: 0.0184 - accuracy: 0.9919 - val_loss: 2.5064 - val_accuracy: 0.7863\n"
          ],
          "name": "stdout"
        }
      ]
    },
    {
      "cell_type": "code",
      "metadata": {
        "colab": {
          "base_uri": "https://localhost:8080/",
          "height": 542
        },
        "id": "dmY_IkIMecej",
        "outputId": "a204efe0-c5ff-46a9-c431-f19d9501834a"
      },
      "source": [
        "import matplotlib.pyplot as plt\n",
        "\n",
        "\n",
        "def plot_graphs(history, string):\n",
        "  plt.plot(history.history[string])\n",
        "  plt.plot(history.history['val_'+string])\n",
        "  plt.xlabel(\"Epochs\")\n",
        "  plt.ylabel(string)\n",
        "  plt.legend([string, 'val_'+string])\n",
        "  plt.show()\n",
        "\n",
        "plot_graphs(history, 'accuracy')\n",
        "plot_graphs(history, 'loss')"
      ],
      "execution_count": 11,
      "outputs": [
        {
          "output_type": "display_data",
          "data": {
            "image/png": "[encoded data removed]",
            "text/plain": [
              "<Figure size 432x288 with 1 Axes>"
            ]
          },
          "metadata": {
            "tags": [],
            "needs_background": "light"
          }
        },
        {
          "output_type": "display_data",
          "data": {
            "image/png": "[encoded data removed]",
            "text/plain": [
              "<Figure size 432x288 with 1 Axes>"
            ]
          },
          "metadata": {
            "tags": [],
            "needs_background": "light"
          }
        }
      ]
    }
  ]
}